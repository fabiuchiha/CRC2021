{
 "cells": [
  {
   "cell_type": "markdown",
   "metadata": {},
   "source": [
    "## Imports and utils"
   ]
  },
  {
   "cell_type": "code",
   "execution_count": 30,
   "metadata": {},
   "outputs": [],
   "source": [
    "import networkx as nx\n",
    "import csv\n",
    "import time\n",
    "import pandas as pd\n",
    "from cdlib import algorithms, readwrite, evaluation, NodeClustering\n",
    "from cdlib.benchmark import LFR, SBM, GRP\n",
    "import infomap\n",
    "from collections import defaultdict\n",
    "import matplotlib.pyplot as plt\n",
    "from tqdm import tqdm"
   ]
  },
  {
   "cell_type": "code",
   "execution_count": 2,
   "metadata": {},
   "outputs": [
    {
     "name": "stdout",
     "output_type": "stream",
     "text": [
      "Graph with 1005 nodes and 16706 edges\n"
     ]
    }
   ],
   "source": [
    "def datafileToGraph(fileName):\n",
    "    emailRaw = pd.read_csv(fileName, header=None)\n",
    "    emailRaw = emailRaw[0].str.split(n=2, expand=True)\n",
    "    emailRaw.columns = ['Source', 'Target']\n",
    "    #print(emailRaw)\n",
    "    emailNetwork = nx.from_pandas_edgelist(emailRaw, source='Source', target='Target', edge_attr=None)\n",
    "    #nx.draw(emailNetwork)  \n",
    "    return emailNetwork\n",
    "emailNet = datafileToGraph('emailNet.txt')\n",
    "print(emailNet)"
   ]
  },
  {
   "cell_type": "code",
   "execution_count": 3,
   "metadata": {},
   "outputs": [],
   "source": [
    "def averageDegree(networkx):\n",
    "    degrees = [val for (node, val) in networkx.degree()]\n",
    "    sum = 0\n",
    "    for d in degrees:\n",
    "        sum += d\n",
    "    return sum/len(degrees)"
   ]
  },
  {
   "cell_type": "code",
   "execution_count": 2,
   "metadata": {},
   "outputs": [],
   "source": [
    "def new_infomap(g_original: object, flags: str = \"\") -> NodeClustering:\n",
    "    \n",
    "    g1 = nx.convert_node_labels_to_integers(g_original, label_attribute=\"name\")\n",
    "    name_map = nx.get_node_attributes(g1, \"name\")\n",
    "    coms_to_node = defaultdict(list)\n",
    "    \n",
    "    flags += \" --silent\"\n",
    "\n",
    "    im = infomap.Infomap(flags)\n",
    "\n",
    "    im.add_nodes(g_original.nodes)\n",
    "\n",
    "    for source, target, data in g1.edges(data=True):\n",
    "        if \"weight\" in data:\n",
    "            im.add_link(source, target, data[\"weight\"])\n",
    "        else:\n",
    "            im.add_link(source, target)\n",
    "    im.run()\n",
    "\n",
    "    for node_id, module_id in im.modules:\n",
    "        node_name = name_map[node_id]\n",
    "        coms_to_node[module_id].append(node_name)\n",
    "\n",
    "    coms_infomap = [list(c) for c in coms_to_node.values()]\n",
    "    \n",
    "    return NodeClustering(\n",
    "        coms_infomap, g_original, \"Infomap\", method_parameters={\"flags\": flags}\n",
    "    )"
   ]
  },
  {
   "cell_type": "markdown",
   "metadata": {},
   "source": [
    "## Email network properties "
   ]
  },
  {
   "cell_type": "code",
   "execution_count": 5,
   "metadata": {},
   "outputs": [
    {
     "name": "stdout",
     "output_type": "stream",
     "text": [
      "Degree distribution: [0, 78, 46, 42, 33, 28, 21, 25, 20, 15, 14, 20, 15, 16, 14, 14, 12, 9, 12, 15, 18, 15, 16, 13, 16, 18, 14, 11, 12, 20, 19, 11, 10, 8, 9, 8, 11, 11, 9, 6, 7, 9, 8, 7, 7, 9, 9, 8, 7, 5, 6, 9, 8, 7, 7, 8, 5, 4, 3, 3, 4, 5, 5, 6, 5, 2, 1, 2, 3, 2, 4, 5, 4, 5, 6, 1, 3, 1, 1, 1, 3, 2, 1, 5, 6, 3, 4, 2, 1, 1, 0, 3, 3, 1, 0, 1, 1, 1, 2, 1, 0, 2, 0, 1, 0, 1, 3, 1, 1, 0, 1, 1, 0, 1, 0, 1, 1, 0, 0, 2, 1, 2, 1, 0, 1, 1, 1, 0, 0, 1, 1, 2, 1, 0, 1, 1, 0, 1, 2, 2, 0, 2, 3, 0, 0, 0, 2, 0, 0, 0, 0, 0, 0, 0, 1, 0, 0, 1, 0, 0, 0, 0, 0, 0, 1, 0, 0, 0, 1, 0, 1, 1, 0, 1, 0, 0, 0, 1, 0, 0, 1, 0, 0, 0, 0, 1, 0, 0, 0, 0, 0, 0, 0, 0, 0, 0, 0, 0, 0, 0, 0, 0, 0, 0, 0, 0, 0, 0, 0, 0, 0, 0, 0, 0, 0, 0, 1, 0, 1, 0, 0, 1, 0, 0, 0, 0, 0, 0, 0, 0, 0, 0, 0, 1, 1, 0, 0, 0, 0, 0, 0, 0, 0, 0, 0, 0, 0, 0, 0, 0, 0, 0, 0, 0, 0, 0, 0, 0, 0, 0, 0, 0, 0, 0, 0, 0, 0, 0, 0, 0, 0, 0, 0, 0, 0, 0, 0, 0, 0, 0, 0, 0, 0, 0, 0, 0, 0, 0, 0, 0, 0, 0, 0, 0, 0, 0, 0, 0, 0, 0, 0, 0, 0, 0, 0, 0, 0, 0, 0, 0, 0, 0, 0, 0, 0, 0, 0, 0, 0, 0, 0, 0, 0, 0, 0, 0, 0, 0, 0, 0, 0, 0, 0, 0, 0, 0, 0, 0, 0, 0, 0, 0, 0, 0, 0, 0, 0, 1]\n",
      "Average degree: 33.245771144278606\n",
      "Clustering coefficient: 0.3993549664221539\n",
      "Average Path Length: 2.586933824816466\n"
     ]
    }
   ],
   "source": [
    "print(\"Degree distribution:\", nx.degree_histogram(emailNet))\n",
    "print(\"Average degree:\", averageDegree(emailNet))\n",
    "print(\"Clustering coefficient:\", nx.average_clustering(emailNet))\n",
    "\n",
    "for C in (emailNet.subgraph(c) for c in nx.connected_components(emailNet)):\n",
    "    print(\"Average Path Length:\", nx.average_shortest_path_length(C))\n",
    "    break\n",
    "    \n",
    "#centrality"
   ]
  },
  {
   "cell_type": "markdown",
   "metadata": {},
   "source": [
    "## Community finding methods for the email network"
   ]
  },
  {
   "cell_type": "code",
   "execution_count": 6,
   "metadata": {},
   "outputs": [
    {
     "name": "stdout",
     "output_type": "stream",
     "text": [
      "Execution time for Louvain in email net: 0.3861 seconds\n",
      "Execution time for Girvan-Newman in email net: 117.05 seconds\n"
     ]
    }
   ],
   "source": [
    "start_time = time.time()\n",
    "emailLouvain = algorithms.louvain(emailNet)\n",
    "print(\"Execution time for Louvain in email net: %.6s seconds\" % (time.time() - start_time))\n",
    "start_time = time.time()\n",
    "emailGN = algorithms.girvan_newman(emailNet, level=3)\n",
    "print(\"Execution time for Girvan-Newman in email net: %.6s seconds\" % (time.time() - start_time))\n",
    "#start_time = time.time()\n",
    "#emailKC = algorithms.kclique(emailNet, k=10)\n",
    "#print(\"Execution time for KCliques in email net: %.6s seconds\" % (time.time() - start_time))\n",
    "#print(\"Execution time for Infomap in email net: %.6s seconds\" % (time.time() - start_time))"
   ]
  },
  {
   "cell_type": "markdown",
   "metadata": {},
   "source": [
    "## Louvain properties"
   ]
  },
  {
   "cell_type": "code",
   "execution_count": 7,
   "metadata": {},
   "outputs": [
    {
     "name": "stdout",
     "output_type": "stream",
     "text": [
      "Louvain Size: FitnessResult(min=1, max=230, score=37.22222222222222, std=62.29460076082531)\n",
      "Louvain Average Path Length: FitnessResult(min=0, max=2.3660979543332483, score=0.6429547552898583, std=0.9949746091964978)\n",
      "Louvain Average Internal Degree: FitnessResult(min=2.0, max=24.607142857142858, score=7.1401008137833, std=8.144955788158892)\n",
      "Louvain Average Embeddedness: FitnessResult(min=0.5440640558076698, max=1.0, score=0.9157798467341185, std=0.136495300046512)\n",
      "Louvain Average Transitivity: FitnessResult(min=0.0, max=0.7293503931679288, score=0.1591499429436357, std=0.2493696795105279)\n",
      "Louvain Hub Dominance: FitnessResult(min=0.42358078602620086, max=0.7301587301587301, score=0.5537905274163827, std=0.09659450802008697)\n",
      "Louvain Significance: FitnessResult(min=None, max=None, score=61113.62956594368, std=None)\n"
     ]
    }
   ],
   "source": [
    "size = evaluation.size(emailNet, emailLouvain)\n",
    "ad = evaluation.avg_distance(emailNet, emailLouvain)\n",
    "aid = evaluation.average_internal_degree(emailNet, emailLouvain)\n",
    "ae = evaluation.avg_embeddedness(emailNet, emailLouvain)\n",
    "at = evaluation.avg_transitivity(emailNet, emailLouvain)\n",
    "hd = evaluation.hub_dominance(emailNet, emailLouvain)\n",
    "s = evaluation.significance(emailNet, emailLouvain)\n",
    "\n",
    "print(\"Louvain Size:\", size)\n",
    "print(\"Louvain Average Path Length:\",  ad)\n",
    "print(\"Louvain Average Internal Degree:\",  aid)\n",
    "print(\"Louvain Average Embeddedness:\",  ae)\n",
    "print(\"Louvain Average Transitivity:\",  at)\n",
    "print(\"Louvain Hub Dominance:\",  hd)\n",
    "print(\"Louvain Significance:\", s)"
   ]
  },
  {
   "cell_type": "code",
   "execution_count": 9,
   "metadata": {
    "scrolled": true
   },
   "outputs": [],
   "source": [
    "#louvainDict = louvain.to_node_community_map()\n",
    "#print(louvainDict)\n",
    "#louvain.to_json()"
   ]
  },
  {
   "cell_type": "markdown",
   "metadata": {},
   "source": [
    "## Girvan-Newman"
   ]
  },
  {
   "cell_type": "code",
   "execution_count": 10,
   "metadata": {},
   "outputs": [
    {
     "name": "stdout",
     "output_type": "stream",
     "text": [
      "Girvan-Newman Size: FitnessResult(min=1, max=978, score=43.69565217391305, std=199.1969605981256)\n",
      "Girvan-Newman Average Path Length: FitnessResult(min=0, max=2.5665982212565908, score=0.1927506473010112, std=0.6330518282579853)\n",
      "Girvan-Newman Average Internal Degree: FitnessResult(min=0.0, max=34.08997955010225, score=3.235796212323286, std=6.602873143511623)\n",
      "Girvan-Newman Average Embeddedness: FitnessResult(min=0.0, max=1.0, score=0.9057542629926452, std=0.2815706562689681)\n",
      "Girvan-Newman Average Transitivity: FitnessResult(min=0.0, max=0.4108588094169628, score=0.017863426496389688, std=0.08378689716311363)\n",
      "Girvan-Newman Hub Dominance: FitnessResult(min=0.35516888433981575, max=1.2, score=0.7775844421699079, std=0.4224155578300921)\n",
      "Girvan-Newman Significance: FitnessResult(min=None, max=None, score=78331.79378130106, std=None)\n"
     ]
    }
   ],
   "source": [
    "size = evaluation.size(emailNet, emailGN)\n",
    "ad = evaluation.avg_distance(emailNet, emailGN)\n",
    "aid = evaluation.average_internal_degree(emailNet, emailGN)\n",
    "ae = evaluation.avg_embeddedness(emailNet, emailGN)\n",
    "at = evaluation.avg_transitivity(emailNet, emailGN)\n",
    "hd = evaluation.hub_dominance(emailNet, emailGN)\n",
    "s = evaluation.significance(emailNet, emailGN)\n",
    "\n",
    "print(\"Girvan-Newman Size:\", size)\n",
    "print(\"Girvan-Newman Average Path Length:\",  ad)\n",
    "print(\"Girvan-Newman Average Internal Degree:\",  aid)\n",
    "print(\"Girvan-Newman Average Embeddedness:\",  ae)\n",
    "print(\"Girvan-Newman Average Transitivity:\",  at)\n",
    "print(\"Girvan-Newman Hub Dominance:\",  hd)\n",
    "print(\"Girvan-Newman Significance:\", s)"
   ]
  },
  {
   "cell_type": "markdown",
   "metadata": {},
   "source": [
    "## Modularity"
   ]
  },
  {
   "cell_type": "code",
   "execution_count": 11,
   "metadata": {},
   "outputs": [
    {
     "name": "stdout",
     "output_type": "stream",
     "text": [
      "Louvain Girvan-Newman mod: FitnessResult(min=None, max=None, score=0.4326447395710833, std=None)\n",
      "Louvain Erdos-Renyi mod: FitnessResult(min=None, max=None, score=0.45046874723811403, std=None)\n",
      "Louvain Z-mod: FitnessResult(min=None, max=None, score=1.1869576999709814, std=None)\n"
     ]
    }
   ],
   "source": [
    "louvainGN = evaluation.newman_girvan_modularity(emailNet, emailLouvain)\n",
    "louvainER = evaluation.erdos_renyi_modularity(emailNet, emailLouvain)\n",
    "louvainZ = evaluation.z_modularity(emailNet, emailLouvain)\n",
    "\n",
    "print(\"Louvain Girvan-Newman mod:\", louvainGN)\n",
    "print(\"Louvain Erdos-Renyi mod:\", louvainER)\n",
    "print(\"Louvain Z-mod:\", louvainZ)"
   ]
  },
  {
   "cell_type": "markdown",
   "metadata": {},
   "source": [
    "## External Evaluation"
   ]
  },
  {
   "cell_type": "code",
   "execution_count": 12,
   "metadata": {},
   "outputs": [
    {
     "name": "stdout",
     "output_type": "stream",
     "text": [
      "Normalized Mutual Information between Louvain and Girvan-Newman: MatchingResult(score=0.14375880880788014, std=None)\n",
      "Adjusted Mutual Information between Louvain and Girvan-Newman: MatchingResult(score=0.10574826763710264, std=None)\n",
      "Adjusted Rand Index between Louvain and Girvan-Newman: MatchingResult(score=0.01346971650042717, std=None)\n",
      "F1 measure between Louvain and Girvan-Newman: MatchingResult(score=0.7685185185185185, std=0.3593585200789885)\n",
      "Variation of information between Louvain and Girvan-Newman: MatchingResult(score=2.854934021362194, std=None)\n"
     ]
    }
   ],
   "source": [
    "nmi = evaluation.normalized_mutual_information(emailLouvain, emailGN)\n",
    "ami = evaluation.adjusted_mutual_information(emailLouvain, emailGN)\n",
    "ari = evaluation.adjusted_rand_index(emailLouvain, emailGN)\n",
    "f1 = evaluation.f1(emailLouvain, emailGN)\n",
    "voi = evaluation.variation_of_information(emailLouvain, emailGN)\n",
    "\n",
    "print(\"Normalized Mutual Information between Louvain and Girvan-Newman:\", nmi)\n",
    "print(\"Adjusted Mutual Information between Louvain and Girvan-Newman:\", ami)\n",
    "print(\"Adjusted Rand Index between Louvain and Girvan-Newman:\", ari)\n",
    "print(\"F1 measure between Louvain and Girvan-Newman:\", f1)\n",
    "print(\"Variation of information between Louvain and Girvan-Newman:\", voi)"
   ]
  },
  {
   "cell_type": "markdown",
   "metadata": {},
   "source": [
    "## Email Labels import "
   ]
  },
  {
   "cell_type": "code",
   "execution_count": 13,
   "metadata": {},
   "outputs": [],
   "source": [
    "def convertTextDatasetToCSV(txtFile, csvFile):\n",
    "    txtFile = open(txtFile, 'r')\n",
    "    \n",
    "    txtLines = txtFile.readlines()\n",
    "    csvLines = {}\n",
    "    \n",
    "    for line in txtLines:\n",
    "        lineVec = line[:-1].split(' ')\n",
    "        if lineVec[1] in csvLines.keys():\n",
    "            csvLines[lineVec[1]].append(lineVec[0])\n",
    "        else:\n",
    "            csvLines[lineVec[1]] = [lineVec[0]]\n",
    "            \n",
    "    with open(csvFile, 'w',newline=\"\") as csv_file:  \n",
    "        writer = csv.writer(csv_file)\n",
    "        for key, value in csvLines.items():\n",
    "            writer.writerow(value)\n",
    "        \n",
    "convertTextDatasetToCSV('emailLabels.txt', 'emailLabels.csv')\n",
    "emailLabels = readwrite.read_community_csv(\"emailLabels.csv\", \",\", str)"
   ]
  },
  {
   "cell_type": "code",
   "execution_count": 14,
   "metadata": {},
   "outputs": [
    {
     "name": "stdout",
     "output_type": "stream",
     "text": [
      "NMI for Louvain and labels: MatchingResult(score=0.6023537592816649, std=None)\n",
      "NMI for Girvan-Newman and labels: MatchingResult(score=0.0449480988954229, std=None)\n",
      "\n",
      "AMI for Louvain and labels: MatchingResult(score=0.5680700585431959, std=None)\n",
      "AMI for Girvan-Newman and labels: MatchingResult(score=-0.0005067215292382119, std=None)\n",
      "\n",
      "ARI for Louvain and labels: MatchingResult(score=0.3507150977474317, std=None)\n",
      "NMI for Girvan-Newman and labels: MatchingResult(score=-0.0012481583268392242, std=None)\n",
      "\n",
      "F1 for Louvain and labels: MatchingResult(score=0.21592592592592597, std=0.2780122467227772)\n",
      "F1 for Girvan-Newman and labels: MatchingResult(score=0.05695652173913045, std=0.050599431394699676)\n",
      "\n",
      "VOI for Louvain and labels: MatchingResult(score=3.1133167699097295, std=None)\n",
      "VOI for Girvan-Newman and labels: MatchingResult(score=4.848380933791979, std=None)\n"
     ]
    }
   ],
   "source": [
    "nmiLouvainLabels = emailLouvain.normalized_mutual_information(emailLabels)\n",
    "nmiGirvanNewmanLabels = emailGN.normalized_mutual_information(emailLabels)\n",
    "\n",
    "amiLouvainLabels = emailLouvain.adjusted_mutual_information(emailLabels)\n",
    "amiGirvanNewmanLabels = emailGN.adjusted_mutual_information(emailLabels)\n",
    "\n",
    "ariLouvainLabels = emailLouvain.adjusted_rand_index(emailLabels)\n",
    "ariGirvanNewmanLabels = emailGN.adjusted_rand_index(emailLabels)\n",
    "\n",
    "f1LouvainLabels = emailLouvain.f1(emailLabels)\n",
    "f1GirvanNewmanLabels = emailGN.f1(emailLabels)\n",
    "\n",
    "voiLouvainLabels = emailLouvain.variation_of_information(emailLabels)\n",
    "voiGirvanNewmanLabels = emailGN.variation_of_information(emailLabels)\n",
    "\n",
    "print(\"NMI for Louvain and labels:\", nmiLouvainLabels)\n",
    "print(\"NMI for Girvan-Newman and labels:\", nmiGirvanNewmanLabels)\n",
    "print()\n",
    "print(\"AMI for Louvain and labels:\", amiLouvainLabels)\n",
    "print(\"AMI for Girvan-Newman and labels:\", amiGirvanNewmanLabels)\n",
    "print()\n",
    "print(\"ARI for Louvain and labels:\", ariLouvainLabels)\n",
    "print(\"NMI for Girvan-Newman and labels:\", ariGirvanNewmanLabels)\n",
    "print()\n",
    "print(\"F1 for Louvain and labels:\", f1LouvainLabels)\n",
    "print(\"F1 for Girvan-Newman and labels:\", f1GirvanNewmanLabels)\n",
    "print()\n",
    "print(\"VOI for Louvain and labels:\", voiLouvainLabels)\n",
    "print(\"VOI for Girvan-Newman and labels:\", voiGirvanNewmanLabels)"
   ]
  },
  {
   "cell_type": "markdown",
   "metadata": {},
   "source": [
    "## LFR "
   ]
  },
  {
   "cell_type": "code",
   "execution_count": 28,
   "metadata": {},
   "outputs": [
    {
     "data": {
      "image/png": "[encoded data removed]",
      "text/plain": [
       "<Figure size 432x288 with 1 Axes>"
      ]
     },
     "metadata": {
      "needs_background": "light"
     },
     "output_type": "display_data"
    }
   ],
   "source": [
    "n = 500\n",
    "tau1 = 3\n",
    "tau2 = 1.5\n",
    "#mu = 0.1\n",
    "mus = [0.1, 0.2, 0.3, 0.4, 0.5, 0.6, 0.7]\n",
    "\n",
    "resultsLouvain = []\n",
    "resultsLeiden = []\n",
    "resultsInfomap = []\n",
    "resultsGN = []\n",
    "\n",
    "for mu in tqdm(mus):\n",
    "    lfrGraph, comsLFR = LFR(n, tau1, tau2, mu, average_degree=5, min_community=20)\n",
    "    \n",
    "    lfrLouvain = algorithms.louvain(lfrGraph)\n",
    "    lfrLeiden = algorithms.leiden(lfrGraph)\n",
    "    lfrInfomap = new_infomap(lfrGraph, \"-N 2\")\n",
    "    lfrGN = algorithms.girvan_newman(lfrGraph, level=3)\n",
    "    \n",
    "    nmi1 = evaluation.normalized_mutual_information(lfrLouvain, comsLFR)\n",
    "    resultsLouvain.append(nmi1[0])\n",
    "    nmi2 = evaluation.normalized_mutual_information(lfrLeiden, comsLFR)\n",
    "    resultsLeiden.append(nmi2[0])\n",
    "    nmi3 =  evaluation.normalized_mutual_information(lfrInfomap, comsLFR)\n",
    "    resultsInfomap.append(nmi3[0])\n",
    "    nmi4 =  evaluation.normalized_mutual_information(lfrGN, comsLFR)\n",
    "    resultsGN.append(nmi4[0])\n",
    "    \n",
    "\n",
    "\n",
    "plt.plot(mus,resultsLouvain, \"-ro\", label = \"Louvain\")\n",
    "plt.plot(mus,resultsLeiden, \"-go\", label = \"Leiden\")\n",
    "plt.plot(mus,resultsInfomap, \"-bo\", label = \"Infomap\")\n",
    "plt.plot(mus,resultsGN, \"-yo\", label = \"Girvan-Newman\")\n",
    "plt.legend()\n",
    "plt.show()"
   ]
  },
  {
   "cell_type": "markdown",
   "metadata": {},
   "source": [
    "## SBM "
   ]
  },
  {
   "cell_type": "code",
   "execution_count": 33,
   "metadata": {},
   "outputs": [
    {
     "name": "stderr",
     "output_type": "stream",
     "text": [
      "100%|██████████| 11/11 [00:01<00:00,  6.02it/s]\n"
     ]
    },
    {
     "data": {
      "image/png": "[encoded data removed]",
      "text/plain": [
       "<Figure size 432x288 with 1 Axes>"
      ]
     },
     "metadata": {
      "needs_background": "light"
     },
     "output_type": "display_data"
    }
   ],
   "source": [
    "resultsLouvain = []\n",
    "resultsLeiden = []\n",
    "resultsInfomap = []\n",
    "\n",
    "mus = [0, 0.1, 0.2, 0.3, 0.4, 0.5, 0.6, 0.7, 0.8, 0.9, 1]\n",
    "\n",
    "sizes = [32, 32, 32, 32]\n",
    "for c in tqdm(mus):\n",
    "    probs = [[1-c, c, c, c], [c, 1-c, c, c], [c, c, 1-c, c],[c, c, c, 1-c]]\n",
    "    sbmGraph, comsSBM = SBM(sizes, probs, seed=10)\n",
    "\n",
    "    sbmLouvain = algorithms.louvain(sbmGraph)\n",
    "    sbmLeiden = algorithms.leiden(sbmGraph)\n",
    "    sbmInfomap = new_infomap(sbmGraph, \"-N 2\")\n",
    "    sbmGN = algorithms.girvan_newman(sbmGraph, level=3)\n",
    "\n",
    "    nmi1 = evaluation.normalized_mutual_information(sbmLouvain, comsSBM)\n",
    "    resultsLouvain.append(nmi1[0])\n",
    "    nmi2 = evaluation.normalized_mutual_information(sbmLeiden, comsSBM)\n",
    "    resultsLeiden.append(nmi2[0])\n",
    "    nmi3 =  evaluation.normalized_mutual_information(sbmInfomap, comsSBM)\n",
    "    resultsInfomap.append(nmi3[0])\n",
    "    nmi4 =  evaluation.normalized_mutual_information(sbmGN, comsSBM)\n",
    "    resultsGN.append(nmi4[0])\n",
    "\n",
    "plt.plot(mus,resultsLouvain, \"-ro\", label = \"Louvain\")\n",
    "plt.plot(mus,resultsLeiden, \"-go\", label = \"Leiden\")\n",
    "plt.plot(mus,resultsInfomap, \"-bo\", label = \"Infomap\")\n",
    "plt.plot(mus,resultsGN, \"-yo\", label = \"Girvan-Newman\")\n",
    "plt.legend()\n",
    "plt.show()\n"
   ]
  },
  {
   "cell_type": "markdown",
   "metadata": {},
   "source": [
    "## GRP\n"
   ]
  },
  {
   "cell_type": "code",
   "execution_count": null,
   "metadata": {},
   "outputs": [],
   "source": [
    "consts = [0.1, 0.2, 0.3, 0.4, 0.5, 0.6, 0.7, 0.8, 0.9, 1]\n",
    "resultsLouvain = []\n",
    "resultsLeiden = []\n",
    "resultsInfomap = []\n",
    "\n",
    "for c in tqdm(consts):\n",
    "    mean = 10 * c\n",
    "    shape = 10 * c/2\n",
    "    grpGraph, comsGRP = GRP(500, mean, shape, 0.25, 0.1)\n",
    "    \n",
    "    grpLouvain = algorithms.louvain(grpGraph)\n",
    "    grpLeiden = algorithms.leiden(grpGraph)\n",
    "    grpInfomap = new_infomap(grpGraph, \"-N 2\")\n",
    "    grpGN = algorithms.girvan_newman(grpGraph, level=3)\n",
    "    \n",
    "    nmi1 = evaluation.normalized_mutual_information(grpLouvain, comsGRP)\n",
    "    resultsLouvain.append(nmi1[0])\n",
    "    nmi2 = evaluation.normalized_mutual_information(grpLeiden, comsGRP)\n",
    "    resultsLeiden.append(nmi2[0])\n",
    "    nmi3 =  evaluation.normalized_mutual_information(grpInfomap, comsGRP)\n",
    "    resultsInfomap.append(nmi3[0])\n",
    "    nmi4 =  evaluation.normalized_mutual_information(grpGN, comsGRP)\n",
    "    resultsGN.append(nmi4[0])\n",
    "    \n",
    "\n",
    "plt.plot(consts,resultsLouvain, \"-ro\", label = \"Louvain\")\n",
    "plt.plot(consts,resultsLeiden, \"-go\", label = \"Leiden\")\n",
    "plt.plot(consts,resultsInfomap, \"-bo\", label = \"Infomap\")\n",
    "plt.plot(consts,resultsGN, \"-yo\", label = \"Girvan-Newman\")\n",
    "plt.legend()\n",
    "plt.show()"
   ]
  },
  {
   "cell_type": "code",
   "execution_count": 32,
   "metadata": {},
   "outputs": [
    {
     "name": "stderr",
     "output_type": "stream",
     "text": [
      "100%|██████████| 22/22 [00:00<00:00, 78398.21it/s]"
     ]
    },
    {
     "name": "stdout",
     "output_type": "stream",
     "text": [
      "22\n"
     ]
    },
    {
     "name": "stderr",
     "output_type": "stream",
     "text": [
      "\n"
     ]
    }
   ],
   "source": []
  },
  {
   "cell_type": "code",
   "execution_count": null,
   "metadata": {},
   "outputs": [],
   "source": []
  }
 ],
 "metadata": {
  "kernelspec": {
   "display_name": "Python 3 (ipykernel)",
   "language": "python",
   "name": "python3"
  },
  "language_info": {
   "codemirror_mode": {
    "name": "ipython",
    "version": 3
   },
   "file_extension": ".py",
   "mimetype": "text/x-python",
   "name": "python",
   "nbconvert_exporter": "python",
   "pygments_lexer": "ipython3",
   "version": "3.8.12"
  }
 },
 "nbformat": 4,
 "nbformat_minor": 2
}
