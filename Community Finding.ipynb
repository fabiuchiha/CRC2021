{
 "cells": [
  {
   "cell_type": "markdown",
   "metadata": {},
   "source": [
    "## Imports and utils"
   ]
  },
  {
   "cell_type": "code",
   "execution_count": 1,
   "metadata": {},
   "outputs": [],
   "source": [
    "import networkx as nx\n",
    "import csv\n",
    "import time\n",
    "import pandas as pd\n",
    "from cdlib import algorithms, readwrite, evaluation, NodeClustering\n",
    "from cdlib.benchmark import LFR, SBM, GRP\n",
    "import infomap\n",
    "from collections import defaultdict\n",
    "import matplotlib.pyplot as plt\n",
    "from tqdm import tqdm\n",
    "import numpy as np\n",
    "from pathlib import Path\n",
    "import pickle"
   ]
  },
  {
   "cell_type": "code",
   "execution_count": 2,
   "metadata": {},
   "outputs": [
    {
     "name": "stdout",
     "output_type": "stream",
     "text": [
      "Figures\n"
     ]
    }
   ],
   "source": [
    "figurePath = Path(\"Figures\")\n",
    "print(figurePath)"
   ]
  },
  {
   "cell_type": "code",
   "execution_count": 3,
   "metadata": {},
   "outputs": [],
   "source": [
    "def datafileToGraph(fileName):\n",
    "    raw = pd.read_csv(fileName, header=None)\n",
    "    raw = raw[0].str.split(n=2, expand=True)\n",
    "    raw.columns = ['Source', 'Target']\n",
    "    #print(emailRaw)\n",
    "    network = nx.from_pandas_edgelist(raw, source='Source', target='Target', edge_attr=None)\n",
    "    #nx.draw(emailNetwork)  \n",
    "    network.name = fileName.split(\".\")[0]\n",
    "    return network"
   ]
  },
  {
   "cell_type": "code",
   "execution_count": 4,
   "metadata": {},
   "outputs": [],
   "source": [
    "def averageDegree(networkx):\n",
    "    degrees = [val for (node, val) in networkx.degree()]\n",
    "    sum = 0\n",
    "    for d in degrees:\n",
    "        sum += d\n",
    "    return sum/len(degrees)"
   ]
  },
  {
   "cell_type": "code",
   "execution_count": 5,
   "metadata": {},
   "outputs": [],
   "source": [
    "def new_infomap(g_original: object, flags: str = \"\") -> NodeClustering:\n",
    "    \n",
    "    g1 = nx.convert_node_labels_to_integers(g_original, label_attribute=\"name\")\n",
    "    name_map = nx.get_node_attributes(g1, \"name\")\n",
    "    coms_to_node = defaultdict(list)\n",
    "    \n",
    "    flags += \" --silent\"\n",
    "\n",
    "    im = infomap.Infomap(flags)\n",
    "\n",
    "    im.add_nodes(g_original.nodes)\n",
    "\n",
    "    for source, target, data in g1.edges(data=True):\n",
    "        if \"weight\" in data:\n",
    "            im.add_link(source, target, data[\"weight\"])\n",
    "        else:\n",
    "            im.add_link(source, target)\n",
    "    im.run()\n",
    "\n",
    "    for node_id, module_id in im.modules:\n",
    "        node_name = name_map[node_id]\n",
    "        coms_to_node[module_id].append(node_name)\n",
    "\n",
    "    coms_infomap = [list(c) for c in coms_to_node.values()]\n",
    "    \n",
    "    return NodeClustering(\n",
    "        coms_infomap, g_original, \"Infomap\", method_parameters={\"flags\": flags}\n",
    "    )"
   ]
  },
  {
   "cell_type": "code",
   "execution_count": 13,
   "metadata": {},
   "outputs": [],
   "source": [
    "def network_info(network, graph = \"False\"):\n",
    "    #print(\"Degree distribution:\", nx.degree_histogram(emailNet))\n",
    "    print(\"Average degree:\", averageDegree(network))\n",
    "    print(\"Clustering coefficient:\", nx.average_clustering(network))\n",
    "\n",
    "    for C in (network.subgraph(c) for c in nx.connected_components(network)):\n",
    "        print(\"Average Path Length:\", nx.average_shortest_path_length(C))\n",
    "        #break\n",
    "\n",
    "\n",
    "    if graph:\n",
    "        #plot deggre centrality\n",
    "        fig = plt.figure(figsize=(3*1.61803398875, 3))\n",
    "        ax = plt.axes((0.2, 0.2, 0.70, 0.70), facecolor='w')\n",
    "        d = np.array(nx.degree_histogram(network))\n",
    "        y = d / len(network.nodes)\n",
    "        x = np.arange(len(y))\n",
    "        ax.plot(x,y,\"go\")\n",
    "        ax.set_xlabel(\"k\")\n",
    "        ax.set_ylabel(\"Pk\")\n",
    "        ax.set_yscale('log')\n",
    "        ax.set_xscale('log')\n",
    "        ax.set_title(\"Degree distribution\")\n",
    "        #ax.legend()\n",
    "        fig.savefig(figurePath/(\"DegreeDistribution_%s.png\" % (network.name)))\n",
    "        plt.close(fig)"
   ]
  },
  {
   "cell_type": "code",
   "execution_count": 14,
   "metadata": {},
   "outputs": [
    {
     "name": "stdout",
     "output_type": "stream",
     "text": [
      "<class 'cdlib.classes.node_clustering.NodeClustering'>\n"
     ]
    }
   ],
   "source": [
    "def convertTextDatasetToCSV(txtFile, csvFile):\n",
    "    txtFile = open(txtFile, 'r')\n",
    "    \n",
    "    txtLines = txtFile.readlines()\n",
    "    csvLines = {}\n",
    "    \n",
    "    for line in txtLines:\n",
    "        lineVec = line[:-1].split(' ')\n",
    "        if lineVec[1] in csvLines.keys():\n",
    "            csvLines[lineVec[1]].append(lineVec[0])\n",
    "        else:\n",
    "            csvLines[lineVec[1]] = [lineVec[0]]\n",
    "            \n",
    "    with open(csvFile, 'w',newline=\"\") as csv_file:  \n",
    "        writer = csv.writer(csv_file)\n",
    "        for key, value in csvLines.items():\n",
    "            writer.writerow(value)\n",
    "        \n",
    "convertTextDatasetToCSV('emailLabels.txt', 'emailLabels.csv')\n",
    "emailLabels = readwrite.read_community_csv(\"emailLabels.csv\", \",\", str)\n",
    "print(type(emailLabels))"
   ]
  },
  {
   "cell_type": "code",
   "execution_count": 15,
   "metadata": {},
   "outputs": [
    {
     "name": "stdout",
     "output_type": "stream",
     "text": [
      "13476\n"
     ]
    }
   ],
   "source": [
    "def convertDblpLabelsToCSV(txtFile, csvFile):\n",
    "    txtFile = open(txtFile, 'r')\n",
    "    \n",
    "    txtLines = txtFile.readlines()\n",
    "    csvLines = {}\n",
    "    \n",
    "    for line in txtLines:\n",
    "        lineVec = line[:-1].split(' ')\n",
    "        print(lineVec)\n",
    "        if lineVec[1] in csvLines.keys():\n",
    "            csvLines[lineVec[1]].append(lineVec[0])\n",
    "        else:\n",
    "            csvLines[lineVec[1]] = [lineVec[0]]\n",
    "            \n",
    "    with open(csvFile, 'w',newline=\"\") as csv_file:  \n",
    "        writer = csv.writer(csv_file)\n",
    "        for key, value in csvLines.items():\n",
    "            writer.writerow(value)\n",
    "\n",
    "#convertDblpLabelsToCSV(\"dblpLabels.txt\", \"dblpLabels.csv\")\n",
    "dblpLabels = readwrite.read_community_csv(\"dblpLabels.txt\", \"\\t\", str)\n",
    "print(list(dblpLabels.to_node_community_map().values())[-1][0])"
   ]
  },
  {
   "cell_type": "code",
   "execution_count": 9,
   "metadata": {},
   "outputs": [],
   "source": [
    "def dataToJSON(data, filename):\n",
    "    with open(filename, 'wb') as object_file:\n",
    "        pickle.dump(data, object_file)"
   ]
  },
  {
   "cell_type": "code",
   "execution_count": 10,
   "metadata": {},
   "outputs": [],
   "source": [
    "def JSONtoData(fileName):\n",
    "    with open(fileName, 'rb') as object_file:\n",
    "        data = pickle.load(object_file)\n",
    "        return data"
   ]
  },
  {
   "cell_type": "code",
   "execution_count": 25,
   "metadata": {},
   "outputs": [],
   "source": [
    "def bestGN(network, levels):\n",
    "    print(network.name)\n",
    "    modularity_vals = []\n",
    "    bestGNscore = 0\n",
    "    bestGNcut = 0\n",
    "\n",
    "    for l in tqdm(levels):\n",
    "        networkGN = algorithms.girvan_newman(network, l)\n",
    "        a = evaluation.newman_girvan_modularity(network, networkGN)\n",
    "        if a.score > bestGNscore:\n",
    "            bestGNscore = a.score\n",
    "            bestGNcut = l\n",
    "        modularity_vals.append(a.score)\n",
    "\n",
    "    print(\"best modularity with %d is: %f\" % (bestGNcut, bestGNscore))\n",
    "\n",
    "    fig = plt.figure(figsize=(3*1.61803398875, 3))\n",
    "    ax = plt.axes((0.2, 0.2, 0.70, 0.70), facecolor='w')\n",
    "\n",
    "    ax.plot(levels, modularity_vals, \"-ro\")\n",
    "\n",
    "    ax.set_xlabel(\"levels\")\n",
    "    ax.set_ylabel(\"Modularity\")\n",
    "    plt.xticks(levels)\n",
    "    ax.set_title(\"Girvan-Newman Modularity Email\")\n",
    "    ax.legend()\n",
    "    fig.savefig(figurePath/(\"Girvan-Newman_mod_%s.png\" % (network.name)))\n",
    "    plt.close(fig)"
   ]
  },
  {
   "cell_type": "markdown",
   "metadata": {},
   "source": [
    "## Email network"
   ]
  },
  {
   "cell_type": "code",
   "execution_count": 22,
   "metadata": {},
   "outputs": [
    {
     "name": "stdout",
     "output_type": "stream",
     "text": [
      "Graph named 'emailNet' with 1005 nodes and 16706 edges\n"
     ]
    }
   ],
   "source": [
    "emailNet = datafileToGraph('emailNet.txt')\n",
    "print(emailNet)"
   ]
  },
  {
   "cell_type": "markdown",
   "metadata": {},
   "source": [
    "## Email network properties "
   ]
  },
  {
   "cell_type": "code",
   "execution_count": 12,
   "metadata": {},
   "outputs": [
    {
     "name": "stdout",
     "output_type": "stream",
     "text": [
      "Average degree: 33.245771144278606\n",
      "Clustering coefficient: 0.3993549664221539\n"
     ]
    }
   ],
   "source": [
    "network_info(emailNet)"
   ]
  },
  {
   "cell_type": "code",
   "execution_count": 23,
   "metadata": {},
   "outputs": [
    {
     "name": "stderr",
     "output_type": "stream",
     "text": [
      "100%|██████████| 11/11 [53:45<00:00, 293.19s/it]\n",
      "No handles with labels found to put in legend.\n"
     ]
    },
    {
     "name": "stdout",
     "output_type": "stream",
     "text": [
      "best modularity with 21 is: 0.003584\n"
     ]
    }
   ],
   "source": [
    "levels = [19, 21, 23, 25, 27, 29, 31, 33, 35]\n",
    "bestGN(emailNet,levels)"
   ]
  },
  {
   "cell_type": "markdown",
   "metadata": {},
   "source": [
    "## Community finding methods for the email network"
   ]
  },
  {
   "cell_type": "code",
   "execution_count": 44,
   "metadata": {},
   "outputs": [
    {
     "name": "stdout",
     "output_type": "stream",
     "text": [
      "Execution time for Louvain in email net: 0.3526 seconds\n",
      "Execution time for Leiden in email net: 0.0561 seconds\n",
      "Execution time for Girvan-Newman in email net: 144.94 seconds\n",
      "Execution time for Infomap in email net: 0.1769 seconds\n"
     ]
    }
   ],
   "source": [
    "algs = [\"louvain\", \"leiden\", \"girvan_newman\", \"infomap\"]\n",
    "timeArray = []\n",
    "\n",
    "start_time = time.time()\n",
    "emailLouvain = algorithms.louvain(emailNet)\n",
    "t = time.time() - start_time\n",
    "print(\"Execution time for Louvain in email net: %.6s seconds\" % (t))\n",
    "timeArray.append(round(t,6))\n",
    "\n",
    "start_time = time.time()\n",
    "emailLeiden = algorithms.leiden(emailNet)\n",
    "t = time.time() - start_time\n",
    "print(\"Execution time for Leiden in email net: %.6s seconds\" % (t))\n",
    "timeArray.append(round(t,6))\n",
    "\n",
    "start_time = time.time()\n",
    "emailGN = algorithms.girvan_newman(emailNet, level=3)\n",
    "t = time.time() - start_time\n",
    "print(\"Execution time for Girvan-Newman in email net: %.6s seconds\" % (t))\n",
    "timeArray.append(round(t,6))\n",
    "\n",
    "start_time = time.time()\n",
    "emailInfomap = algorithms.infomap(emailNet, \"--silent -N 2\")\n",
    "t = time.time() - start_time\n",
    "print(\"Execution time for Infomap in email net: %.6s seconds\" % (t))\n",
    "timeArray.append(round(t,6))"
   ]
  },
  {
   "cell_type": "code",
   "execution_count": 48,
   "metadata": {},
   "outputs": [],
   "source": [
    "fig = plt.figure(figsize=(3*1.61803398875, 3))\n",
    "ax = plt.axes((0.2, 0.2, 0.70, 0.70), facecolor='w')\n",
    "\n",
    "width = 8.2 / (len(algs)*len(timeArray))  # the width of the bars\n",
    "step = width / len(algs)\n",
    "\n",
    "for alg_id in range(len(algs)):\n",
    "    ax.bar(algs[alg_id], timeArray[alg_id], step, label=algs[alg_id])\n",
    "      \n",
    "ax.set_ylabel(\"Execution time\")\n",
    "ax.set_title(\"Execution time\")\n",
    "ax.set_yscale('log')\n",
    "fig.savefig(figurePath/(\"Execution_Time%s.png\" % (emailNet.name)))\n",
    "plt.close(fig)"
   ]
  },
  {
   "cell_type": "markdown",
   "metadata": {},
   "source": [
    "## Louvain properties"
   ]
  },
  {
   "cell_type": "code",
   "execution_count": 34,
   "metadata": {},
   "outputs": [
    {
     "name": "stdout",
     "output_type": "stream",
     "text": [
      "Louvain Number of communities: 28\n",
      "Louvain Average Community Size: FitnessResult(min=1, max=242, score=35.892857142857146, std=61.7525819504822)\n",
      "Louvain Average Path Length: FitnessResult(min=0, max=2.3587693798449614, score=0.6687511989004468, std=0.9814561549961194)\n",
      "Louvain Average Internal Degree: FitnessResult(min=2.0, max=26.414414414414413, score=7.1414264044270235, std=8.145409774820516)\n",
      "Louvain Average Embeddedness: FitnessResult(min=0.5262840971085652, max=1.0, score=0.9026454393768262, std=0.1511494864953937)\n",
      "Louvain Average Transitivity: FitnessResult(min=0.0, max=0.7483573148327239, score=0.17693456966841095, std=0.26202897409459874)\n",
      "Louvain Hub Dominance: FitnessResult(min=0.42323651452282157, max=1.1111111111111112, score=0.6302828175082392, std=0.1938634867901892)\n",
      "Louvain Significance: FitnessResult(min=None, max=None, score=61545.919858859335, std=None)\n"
     ]
    }
   ],
   "source": [
    "nComs = list(emailLouvain.to_node_community_map().values())[-1][0]+1\n",
    "size = evaluation.size(emailNet, emailLouvain)\n",
    "ad = evaluation.avg_distance(emailNet, emailLouvain)\n",
    "aid = evaluation.average_internal_degree(emailNet, emailLouvain)\n",
    "ae = evaluation.avg_embeddedness(emailNet, emailLouvain)\n",
    "at = evaluation.avg_transitivity(emailNet, emailLouvain)\n",
    "hd = evaluation.hub_dominance(emailNet, emailLouvain)\n",
    "\n",
    "print(\"Louvain Number of communities:\", nComs)\n",
    "print(\"Louvain Average Community Size:\", size)\n",
    "print(\"Louvain Average Path Length:\",  ad)\n",
    "print(\"Louvain Average Internal Degree:\",  aid)\n",
    "print(\"Louvain Average Embeddedness:\",  ae)\n",
    "print(\"Louvain Average Transitivity:\",  at)\n",
    "print(\"Louvain Hub Dominance:\",  hd)"
   ]
  },
  {
   "cell_type": "code",
   "execution_count": 9,
   "metadata": {
    "scrolled": true
   },
   "outputs": [],
   "source": [
    "#louvainDict = louvain.to_node_community_map()\n",
    "#print(louvainDict)\n",
    "#louvain.to_json()"
   ]
  },
  {
   "cell_type": "markdown",
   "metadata": {},
   "source": [
    "## Leiden "
   ]
  },
  {
   "cell_type": "code",
   "execution_count": 36,
   "metadata": {},
   "outputs": [
    {
     "name": "stdout",
     "output_type": "stream",
     "text": [
      "Leiden Number of communities: 27\n",
      "Leiden Average Community Size: FitnessResult(min=1, max=245, score=37.22222222222222, std=62.93637782968597)\n",
      "Leiden Average Path Length: FitnessResult(min=0, max=2.377818668450987, score=0.6413249932430524, std=0.9921364087509856)\n",
      "Leiden Average Internal Degree: FitnessResult(min=2.0, max=25.0990990990991, score=7.1751057028643785, std=8.2048837020894)\n",
      "Leiden Average Embeddedness: FitnessResult(min=0.5497627459803758, max=1.0, score=0.9175145392570943, std=0.13331845281395657)\n",
      "Leiden Average Transitivity: FitnessResult(min=0.0, max=0.7730782353499883, score=0.15939350931645443, std=0.25158624800626506)\n",
      "Leiden Hub Dominance: FitnessResult(min=0.4057377049180328, max=0.6363636363636364, score=0.5550471907298913, std=0.07580252489705826)\n"
     ]
    }
   ],
   "source": [
    "nComs = list(emailLeiden.to_node_community_map().values())[-1][0]+1\n",
    "size = evaluation.size(emailNet, emailLeiden)\n",
    "ad = evaluation.avg_distance(emailNet, emailLeiden)\n",
    "aid = evaluation.average_internal_degree(emailNet, emailLeiden)\n",
    "ae = evaluation.avg_embeddedness(emailNet, emailLeiden)\n",
    "at = evaluation.avg_transitivity(emailNet, emailLeiden)\n",
    "hd = evaluation.hub_dominance(emailNet, emailLeiden)\n",
    "\n",
    "print(\"Leiden Number of communities:\", nComs)\n",
    "print(\"Leiden Average Community Size:\", size)\n",
    "print(\"Leiden Average Path Length:\",  ad)\n",
    "print(\"Leiden Average Internal Degree:\",  aid)\n",
    "print(\"Leiden Average Embeddedness:\",  ae)\n",
    "print(\"Leiden Average Transitivity:\",  at)\n",
    "print(\"Leiden Hub Dominance:\",  hd)"
   ]
  },
  {
   "cell_type": "markdown",
   "metadata": {},
   "source": [
    "## Girvan-Newman"
   ]
  },
  {
   "cell_type": "code",
   "execution_count": 38,
   "metadata": {},
   "outputs": [
    {
     "name": "stdout",
     "output_type": "stream",
     "text": [
      "Girvan-Newman Number of communities: 23\n",
      "Girvan-Newman Size: FitnessResult(min=1, max=978, score=43.69565217391305, std=199.1969605981256)\n",
      "Girvan-Newman Average Path Length: FitnessResult(min=0, max=2.5665982212565908, score=0.1927506473010112, std=0.6330518282579853)\n",
      "Girvan-Newman Average Internal Degree: FitnessResult(min=0.0, max=34.08997955010225, score=3.235796212323286, std=6.602873143511623)\n",
      "Girvan-Newman Average Embeddedness: FitnessResult(min=0.0, max=1.0, score=0.9057542629926452, std=0.2815706562689681)\n",
      "Girvan-Newman Average Transitivity: FitnessResult(min=0.0, max=0.4108588094169628, score=0.017863426496389688, std=0.08378689716311363)\n",
      "Girvan-Newman Hub Dominance: FitnessResult(min=0.35516888433981575, max=1.2, score=0.7775844421699079, std=0.4224155578300921)\n",
      "Girvan-Newman Significance: FitnessResult(min=None, max=None, score=78331.79378130106, std=None)\n"
     ]
    }
   ],
   "source": [
    "nComs = list(emailGN.to_node_community_map().values())[-1][0]+1\n",
    "size = evaluation.size(emailNet, emailGN)\n",
    "ad = evaluation.avg_distance(emailNet, emailGN)\n",
    "aid = evaluation.average_internal_degree(emailNet, emailGN)\n",
    "ae = evaluation.avg_embeddedness(emailNet, emailGN)\n",
    "at = evaluation.avg_transitivity(emailNet, emailGN)\n",
    "hd = evaluation.hub_dominance(emailNet, emailGN)\n",
    "\n",
    "print(\"Girvan-Newman Number of communities:\", nComs)\n",
    "print(\"Girvan-Newman Size:\", size)\n",
    "print(\"Girvan-Newman Average Path Length:\",  ad)\n",
    "print(\"Girvan-Newman Average Internal Degree:\",  aid)\n",
    "print(\"Girvan-Newman Average Embeddedness:\",  ae)\n",
    "print(\"Girvan-Newman Average Transitivity:\",  at)\n",
    "print(\"Girvan-Newman Hub Dominance:\",  hd)"
   ]
  },
  {
   "cell_type": "code",
   "execution_count": null,
   "metadata": {
    "scrolled": true
   },
   "outputs": [],
   "source": [
    "print(emailInfomap.to_node_community_map())"
   ]
  },
  {
   "cell_type": "markdown",
   "metadata": {},
   "source": [
    "## Infomap"
   ]
  },
  {
   "cell_type": "code",
   "execution_count": 51,
   "metadata": {},
   "outputs": [
    {
     "name": "stdout",
     "output_type": "stream",
     "text": [
      "Infomap Number of communities: 34\n",
      "Infomap Size: FitnessResult(min=1, max=513, score=29.558823529411764, std=89.11235181317313)\n",
      "Infomap Average Path Length: FitnessResult(min=0, max=2.4256670321637426, score=0.6905898334658904, std=0.8372308904563356)\n",
      "Infomap Average Internal Degree: FitnessResult(min=1.0, max=29.57504873294347, score=6.322285857617108, std=7.915326374424319)\n",
      "Infomap Average Embeddedness: FitnessResult(min=0.41666666666666663, max=1.0, score=0.8548970779096592, std=0.18102253075576855)\n",
      "Infomap Average Transitivity: FitnessResult(min=0.0, max=0.8140800887261144, score=0.1730519205112693, std=0.2853027427781874)\n"
     ]
    }
   ],
   "source": [
    "nComs = list(emailInfomap.to_node_community_map().values())[-1][0]+1\n",
    "size = evaluation.size(emailNet, emailInfomap)\n",
    "ad = evaluation.avg_distance(emailNet, emailInfomap)\n",
    "aid = evaluation.average_internal_degree(emailNet, emailInfomap)\n",
    "ae = evaluation.avg_embeddedness(emailNet, emailInfomap)\n",
    "at = evaluation.avg_transitivity(emailNet, emailInfomap)\n",
    "#hd = evaluation.hub_dominance(emailNet, emailInfomap)\n",
    "\n",
    "print(\"Infomap Number of communities:\", nComs)\n",
    "print(\"Infomap Size:\", size)\n",
    "print(\"Infomap Average Path Length:\",  ad)\n",
    "print(\"Infomap Average Internal Degree:\",  aid)\n",
    "print(\"Infomap Average Embeddedness:\",  ae)\n",
    "print(\"Infomap Average Transitivity:\",  at)\n",
    "#print(\"Infomap Hub Dominance:\",  hd)"
   ]
  },
  {
   "cell_type": "markdown",
   "metadata": {},
   "source": [
    "## Modularity"
   ]
  },
  {
   "cell_type": "code",
   "execution_count": 53,
   "metadata": {},
   "outputs": [
    {
     "name": "stdout",
     "output_type": "stream",
     "text": [
      "Louvain Girvan-Newman mod: FitnessResult(min=None, max=None, score=0.4318206751448841, std=None)\n",
      "Louvain Erdos-Renyi mod: FitnessResult(min=None, max=None, score=0.4549865127361685, std=None)\n",
      "Louvain Z-mod: FitnessResult(min=None, max=None, score=1.1462260420651909, std=None)\n",
      "gn Girvan-Newman mod: FitnessResult(min=None, max=None, score=0.0031087073868774446, std=None)\n"
     ]
    }
   ],
   "source": [
    "louvainGN = evaluation.newman_girvan_modularity(emailNet, emailLouvain)\n",
    "louvainER = evaluation.erdos_renyi_modularity(emailNet, emailLouvain)\n",
    "louvainZ = evaluation.z_modularity(emailNet, emailLouvain)\n",
    "gnGN = evaluation.newman_girvan_modularity(emailNet, emailGN)\n",
    "\n",
    "print(\"Louvain Girvan-Newman mod:\", louvainGN)\n",
    "print(\"Louvain Erdos-Renyi mod:\", louvainER)\n",
    "print(\"Louvain Z-mod:\", louvainZ)\n",
    "print(\"gn Girvan-Newman mod:\", gnGN)"
   ]
  },
  {
   "cell_type": "markdown",
   "metadata": {},
   "source": [
    "## External Evaluation"
   ]
  },
  {
   "cell_type": "code",
   "execution_count": 12,
   "metadata": {},
   "outputs": [
    {
     "name": "stdout",
     "output_type": "stream",
     "text": [
      "Normalized Mutual Information between Louvain and Girvan-Newman: MatchingResult(score=0.14375880880788014, std=None)\n",
      "Adjusted Mutual Information between Louvain and Girvan-Newman: MatchingResult(score=0.10574826763710264, std=None)\n",
      "Adjusted Rand Index between Louvain and Girvan-Newman: MatchingResult(score=0.01346971650042717, std=None)\n",
      "F1 measure between Louvain and Girvan-Newman: MatchingResult(score=0.7685185185185185, std=0.3593585200789885)\n",
      "Variation of information between Louvain and Girvan-Newman: MatchingResult(score=2.854934021362194, std=None)\n"
     ]
    }
   ],
   "source": [
    "nmi = evaluation.normalized_mutual_information(emailLouvain, emailGN)\n",
    "ami = evaluation.adjusted_mutual_information(emailLouvain, emailGN)\n",
    "ari = evaluation.adjusted_rand_index(emailLouvain, emailGN)\n",
    "f1 = evaluation.f1(emailLouvain, emailGN)\n",
    "voi = evaluation.variation_of_information(emailLouvain, emailGN)\n",
    "\n",
    "print(\"Normalized Mutual Information between Louvain and Girvan-Newman:\", nmi)\n",
    "print(\"Adjusted Mutual Information between Louvain and Girvan-Newman:\", ami)\n",
    "print(\"Adjusted Rand Index between Louvain and Girvan-Newman:\", ari)\n",
    "print(\"F1 measure between Louvain and Girvan-Newman:\", f1)\n",
    "print(\"Variation of information between Louvain and Girvan-Newman:\", voi)"
   ]
  },
  {
   "cell_type": "markdown",
   "metadata": {},
   "source": [
    "## Email Labels import "
   ]
  },
  {
   "cell_type": "code",
   "execution_count": 40,
   "metadata": {},
   "outputs": [
    {
     "name": "stdout",
     "output_type": "stream",
     "text": [
      "NMI for Louvain and labels: MatchingResult(score=0.5882969131854163, std=None)\n",
      "NMI for Leiden and labels: MatchingResult(score=0.5776771281141226, std=None)\n",
      "NMI for Girvan-Newman and labels: MatchingResult(score=0.0449480988954229, std=None)\n",
      "\n",
      "AMI for Louvain and labels: MatchingResult(score=0.5527517337989198, std=None)\n",
      "AMI for Leiden and labels: MatchingResult(score=0.540992332601562, std=None)\n",
      "AMI for Girvan-Newman and labels: MatchingResult(score=-0.0005067215292382119, std=None)\n",
      "\n",
      "ARI for Louvain and labels: MatchingResult(score=0.3311391803457487, std=None)\n",
      "ARI for Leiden and labels: MatchingResult(score=0.2985758824644375, std=None)\n",
      "NMI for Girvan-Newman and labels: MatchingResult(score=-0.0012481583268392242, std=None)\n",
      "\n",
      "F1 for Louvain and labels: MatchingResult(score=0.21592592592592594, std=0.2803999690819878)\n",
      "F1 for Leiden and labels: MatchingResult(score=0.2082142857142857, std=0.27508509815053567)\n",
      "F1 for Girvan-Newman and labels: MatchingResult(score=0.05695652173913045, std=0.050599431394699676)\n",
      "\n",
      "VOI for Louvain and labels: MatchingResult(score=3.2163956901538038, std=None)\n",
      "VOI for Leiden and labels: MatchingResult(score=3.245985910498302, std=None)\n",
      "VOI for Girvan-Newman and labels: MatchingResult(score=4.848380933791979, std=None)\n"
     ]
    }
   ],
   "source": [
    "nmiLouvainLabels = emailLouvain.normalized_mutual_information(emailLabels)\n",
    "nmiLeidenLabels = emailLeiden.normalized_mutual_information(emailLabels)\n",
    "nmiGirvanNewmanLabels = emailGN.normalized_mutual_information(emailLabels)\n",
    "\n",
    "amiLouvainLabels = emailLouvain.adjusted_mutual_information(emailLabels)\n",
    "amiLeidenLabels = emailLeiden.adjusted_mutual_information(emailLabels)\n",
    "amiGirvanNewmanLabels = emailGN.adjusted_mutual_information(emailLabels)\n",
    "\n",
    "ariLouvainLabels = emailLouvain.adjusted_rand_index(emailLabels)\n",
    "ariLeidenLabels = emailLeiden.adjusted_rand_index(emailLabels)\n",
    "ariGirvanNewmanLabels = emailGN.adjusted_rand_index(emailLabels)\n",
    "\n",
    "f1LouvainLabels = emailLouvain.f1(emailLabels)\n",
    "f1LeidenLabels = emailLeiden.f1(emailLabels)\n",
    "f1GirvanNewmanLabels = emailGN.f1(emailLabels)\n",
    "\n",
    "voiLouvainLabels = emailLouvain.variation_of_information(emailLabels)\n",
    "voiLeidenLabels = emailLeiden.variation_of_information(emailLabels)\n",
    "voiGirvanNewmanLabels = emailGN.variation_of_information(emailLabels)\n",
    "\n",
    "print(\"NMI for Louvain and labels:\", nmiLouvainLabels)\n",
    "print(\"NMI for Leiden and labels:\", nmiLeidenLabels)\n",
    "print(\"NMI for Girvan-Newman and labels:\", nmiGirvanNewmanLabels)\n",
    "print()\n",
    "print(\"AMI for Louvain and labels:\", amiLouvainLabels)\n",
    "print(\"AMI for Leiden and labels:\", amiLeidenLabels)\n",
    "print(\"AMI for Girvan-Newman and labels:\", amiGirvanNewmanLabels)\n",
    "print()\n",
    "print(\"ARI for Louvain and labels:\", ariLouvainLabels)\n",
    "print(\"ARI for Leiden and labels:\", ariLeidenLabels)\n",
    "print(\"NMI for Girvan-Newman and labels:\", ariGirvanNewmanLabels)\n",
    "print()\n",
    "print(\"F1 for Louvain and labels:\", f1LouvainLabels)\n",
    "print(\"F1 for Leiden and labels:\", f1LeidenLabels)\n",
    "print(\"F1 for Girvan-Newman and labels:\", f1GirvanNewmanLabels)\n",
    "print()\n",
    "print(\"VOI for Louvain and labels:\", voiLouvainLabels)\n",
    "print(\"VOI for Leiden and labels:\", voiLeidenLabels)\n",
    "print(\"VOI for Girvan-Newman and labels:\", voiGirvanNewmanLabels)"
   ]
  },
  {
   "cell_type": "markdown",
   "metadata": {},
   "source": [
    "## DBLP network"
   ]
  },
  {
   "cell_type": "code",
   "execution_count": 16,
   "metadata": {},
   "outputs": [
    {
     "name": "stdout",
     "output_type": "stream",
     "text": [
      "Graph named 'dblpNet' with 317080 nodes and 1049866 edges\n"
     ]
    }
   ],
   "source": [
    "dblpNet = datafileToGraph('dblpNet.txt')\n",
    "print(dblpNet)\n",
    "dataToJSON(dblpNet, 'dblpNet.data')"
   ]
  },
  {
   "cell_type": "code",
   "execution_count": 17,
   "metadata": {},
   "outputs": [],
   "source": [
    "dblpNet = JSONtoData('dblpNet.data')"
   ]
  },
  {
   "cell_type": "code",
   "execution_count": 15,
   "metadata": {},
   "outputs": [
    {
     "name": "stdout",
     "output_type": "stream",
     "text": [
      "Average degree: 6.622089062697111\n",
      "Clustering coefficient: 0.6324308280637396\n"
     ]
    }
   ],
   "source": [
    "network_info(dblpNet)"
   ]
  },
  {
   "cell_type": "code",
   "execution_count": null,
   "metadata": {},
   "outputs": [],
   "source": [
    "apl = nx.average_shortest_path_length(dblpNet)\n",
    "print(apl)"
   ]
  },
  {
   "cell_type": "code",
   "execution_count": null,
   "metadata": {},
   "outputs": [],
   "source": [
    "levels = [7, 9, 11, 13, 15, 17, 19, 21, 23, 25]\n",
    "modularity_vals = []\n",
    "bestGNscore = 0\n",
    "bestGNcut = 0\n",
    "\n",
    "for l in tqdm(levels):\n",
    "    emGN = algorithms.girvan_newman(dblpNet, l)\n",
    "    #print(\"GN mod for level %d:\" % (l), evaluation.newman_girvan_modularity(lfr,lfrGN))\n",
    "    a = evaluation.newman_girvan_modularity(dblpNet,emGN)\n",
    "    if a.score > bestGNscore:\n",
    "        bestGNscore = a.score\n",
    "        bestGNcut = l\n",
    "    modularity_vals.append(a.score)\n",
    "\n",
    "print(\"best modularity with %d is: %f\" % (bestGNcut, bestGNscore))\n",
    "    \n",
    "fig = plt.figure(figsize=(3*1.61803398875, 3))\n",
    "ax = plt.axes((0.2, 0.2, 0.70, 0.70), facecolor='w')\n",
    "\n",
    "ax.plot(levels, modularity_vals, \"-ro\")\n",
    "\n",
    "ax.set_xlabel(\"levels\")\n",
    "ax.set_ylabel(\"Modularity\")\n",
    "plt.xticks(levels)\n",
    "ax.set_title(\"Girvan-Newman Modularity DBLP\")\n",
    "ax.legend()\n",
    "fig.savefig(figurePath/(\"Girvan-Newman_mod_dblp.png\"))\n",
    "plt.close(fig)"
   ]
  },
  {
   "cell_type": "code",
   "execution_count": 21,
   "metadata": {},
   "outputs": [
    {
     "name": "stdout",
     "output_type": "stream",
     "text": [
      "Execution time for Louvain in email net: 147.78 seconds\n",
      "Execution time for Leiden in email net: 11.861 seconds\n"
     ]
    },
    {
     "ename": "KeyboardInterrupt",
     "evalue": "",
     "output_type": "error",
     "traceback": [
      "\u001b[0;31m---------------------------------------------------------------------------\u001b[0m",
      "\u001b[0;31mKeyboardInterrupt\u001b[0m                         Traceback (most recent call last)",
      "\u001b[0;32m/tmp/ipykernel_4345/2194190729.py\u001b[0m in \u001b[0;36m<module>\u001b[0;34m\u001b[0m\n\u001b[1;32m     17\u001b[0m \u001b[0;34m\u001b[0m\u001b[0m\n\u001b[1;32m     18\u001b[0m \u001b[0mstart_time\u001b[0m \u001b[0;34m=\u001b[0m \u001b[0mtime\u001b[0m\u001b[0;34m.\u001b[0m\u001b[0mtime\u001b[0m\u001b[0;34m(\u001b[0m\u001b[0;34m)\u001b[0m\u001b[0;34m\u001b[0m\u001b[0;34m\u001b[0m\u001b[0m\n\u001b[0;32m---> 19\u001b[0;31m \u001b[0mdblpGN\u001b[0m \u001b[0;34m=\u001b[0m \u001b[0malgorithms\u001b[0m\u001b[0;34m.\u001b[0m\u001b[0mgirvan_newman\u001b[0m\u001b[0;34m(\u001b[0m\u001b[0mdblpNet\u001b[0m\u001b[0;34m,\u001b[0m \u001b[0mlevel\u001b[0m\u001b[0;34m=\u001b[0m\u001b[0;36m3\u001b[0m\u001b[0;34m)\u001b[0m\u001b[0;34m\u001b[0m\u001b[0;34m\u001b[0m\u001b[0m\n\u001b[0m\u001b[1;32m     20\u001b[0m \u001b[0mdataToJSON\u001b[0m\u001b[0;34m(\u001b[0m\u001b[0mdblpGN\u001b[0m\u001b[0;34m,\u001b[0m \u001b[0;34m'dblp_gn.data'\u001b[0m\u001b[0;34m)\u001b[0m\u001b[0;34m\u001b[0m\u001b[0;34m\u001b[0m\u001b[0m\n\u001b[1;32m     21\u001b[0m \u001b[0mt\u001b[0m \u001b[0;34m=\u001b[0m \u001b[0mtime\u001b[0m\u001b[0;34m.\u001b[0m\u001b[0mtime\u001b[0m\u001b[0;34m(\u001b[0m\u001b[0;34m)\u001b[0m \u001b[0;34m-\u001b[0m \u001b[0mstart_time\u001b[0m\u001b[0;34m\u001b[0m\u001b[0;34m\u001b[0m\u001b[0m\n",
      "\u001b[0;32m~/anaconda3/lib/python3.8/site-packages/cdlib/algorithms/crisp_partition.py\u001b[0m in \u001b[0;36mgirvan_newman\u001b[0;34m(g_original, level)\u001b[0m\n\u001b[1;32m    164\u001b[0m     \u001b[0mcoms\u001b[0m \u001b[0;34m=\u001b[0m \u001b[0;34m[\u001b[0m\u001b[0;34m]\u001b[0m\u001b[0;34m\u001b[0m\u001b[0;34m\u001b[0m\u001b[0m\n\u001b[1;32m    165\u001b[0m     \u001b[0;32mfor\u001b[0m \u001b[0m_\u001b[0m \u001b[0;32min\u001b[0m \u001b[0mrange\u001b[0m\u001b[0;34m(\u001b[0m\u001b[0mlevel\u001b[0m\u001b[0;34m)\u001b[0m\u001b[0;34m:\u001b[0m\u001b[0;34m\u001b[0m\u001b[0;34m\u001b[0m\u001b[0m\n\u001b[0;32m--> 166\u001b[0;31m         \u001b[0mcoms\u001b[0m \u001b[0;34m=\u001b[0m \u001b[0mnext\u001b[0m\u001b[0;34m(\u001b[0m\u001b[0mgn_hierarchy\u001b[0m\u001b[0;34m)\u001b[0m\u001b[0;34m\u001b[0m\u001b[0;34m\u001b[0m\u001b[0m\n\u001b[0m\u001b[1;32m    167\u001b[0m \u001b[0;34m\u001b[0m\u001b[0m\n\u001b[1;32m    168\u001b[0m     \u001b[0mcommunities\u001b[0m \u001b[0;34m=\u001b[0m \u001b[0;34m[\u001b[0m\u001b[0;34m]\u001b[0m\u001b[0;34m\u001b[0m\u001b[0;34m\u001b[0m\u001b[0m\n",
      "\u001b[0;32m~/anaconda3/lib/python3.8/site-packages/networkx/algorithms/community/centrality.py\u001b[0m in \u001b[0;36mgirvan_newman\u001b[0;34m(G, most_valuable_edge)\u001b[0m\n\u001b[1;32m    145\u001b[0m     \u001b[0mg\u001b[0m\u001b[0;34m.\u001b[0m\u001b[0mremove_edges_from\u001b[0m\u001b[0;34m(\u001b[0m\u001b[0mnx\u001b[0m\u001b[0;34m.\u001b[0m\u001b[0mselfloop_edges\u001b[0m\u001b[0;34m(\u001b[0m\u001b[0mg\u001b[0m\u001b[0;34m)\u001b[0m\u001b[0;34m)\u001b[0m\u001b[0;34m\u001b[0m\u001b[0;34m\u001b[0m\u001b[0m\n\u001b[1;32m    146\u001b[0m     \u001b[0;32mwhile\u001b[0m \u001b[0mg\u001b[0m\u001b[0;34m.\u001b[0m\u001b[0mnumber_of_edges\u001b[0m\u001b[0;34m(\u001b[0m\u001b[0;34m)\u001b[0m \u001b[0;34m>\u001b[0m \u001b[0;36m0\u001b[0m\u001b[0;34m:\u001b[0m\u001b[0;34m\u001b[0m\u001b[0;34m\u001b[0m\u001b[0m\n\u001b[0;32m--> 147\u001b[0;31m         \u001b[0;32myield\u001b[0m \u001b[0m_without_most_central_edges\u001b[0m\u001b[0;34m(\u001b[0m\u001b[0mg\u001b[0m\u001b[0;34m,\u001b[0m \u001b[0mmost_valuable_edge\u001b[0m\u001b[0;34m)\u001b[0m\u001b[0;34m\u001b[0m\u001b[0;34m\u001b[0m\u001b[0m\n\u001b[0m\u001b[1;32m    148\u001b[0m \u001b[0;34m\u001b[0m\u001b[0m\n\u001b[1;32m    149\u001b[0m \u001b[0;34m\u001b[0m\u001b[0m\n",
      "\u001b[0;32m~/anaconda3/lib/python3.8/site-packages/networkx/algorithms/community/centrality.py\u001b[0m in \u001b[0;36m_without_most_central_edges\u001b[0;34m(G, most_valuable_edge)\u001b[0m\n\u001b[1;32m    164\u001b[0m     \u001b[0mnum_new_components\u001b[0m \u001b[0;34m=\u001b[0m \u001b[0moriginal_num_components\u001b[0m\u001b[0;34m\u001b[0m\u001b[0;34m\u001b[0m\u001b[0m\n\u001b[1;32m    165\u001b[0m     \u001b[0;32mwhile\u001b[0m \u001b[0mnum_new_components\u001b[0m \u001b[0;34m<=\u001b[0m \u001b[0moriginal_num_components\u001b[0m\u001b[0;34m:\u001b[0m\u001b[0;34m\u001b[0m\u001b[0;34m\u001b[0m\u001b[0m\n\u001b[0;32m--> 166\u001b[0;31m         \u001b[0medge\u001b[0m \u001b[0;34m=\u001b[0m \u001b[0mmost_valuable_edge\u001b[0m\u001b[0;34m(\u001b[0m\u001b[0mG\u001b[0m\u001b[0;34m)\u001b[0m\u001b[0;34m\u001b[0m\u001b[0;34m\u001b[0m\u001b[0m\n\u001b[0m\u001b[1;32m    167\u001b[0m         \u001b[0mG\u001b[0m\u001b[0;34m.\u001b[0m\u001b[0mremove_edge\u001b[0m\u001b[0;34m(\u001b[0m\u001b[0;34m*\u001b[0m\u001b[0medge\u001b[0m\u001b[0;34m)\u001b[0m\u001b[0;34m\u001b[0m\u001b[0;34m\u001b[0m\u001b[0m\n\u001b[1;32m    168\u001b[0m         \u001b[0mnew_components\u001b[0m \u001b[0;34m=\u001b[0m \u001b[0mtuple\u001b[0m\u001b[0;34m(\u001b[0m\u001b[0mnx\u001b[0m\u001b[0;34m.\u001b[0m\u001b[0mconnected_components\u001b[0m\u001b[0;34m(\u001b[0m\u001b[0mG\u001b[0m\u001b[0;34m)\u001b[0m\u001b[0;34m)\u001b[0m\u001b[0;34m\u001b[0m\u001b[0;34m\u001b[0m\u001b[0m\n",
      "\u001b[0;32m~/anaconda3/lib/python3.8/site-packages/networkx/algorithms/community/centrality.py\u001b[0m in \u001b[0;36mmost_valuable_edge\u001b[0;34m(G)\u001b[0m\n\u001b[1;32m    136\u001b[0m             \u001b[0;31m# We have guaranteed that the graph is non-empty, so this\u001b[0m\u001b[0;34m\u001b[0m\u001b[0;34m\u001b[0m\u001b[0;34m\u001b[0m\u001b[0m\n\u001b[1;32m    137\u001b[0m             \u001b[0;31m# dictionary will never be empty.\u001b[0m\u001b[0;34m\u001b[0m\u001b[0;34m\u001b[0m\u001b[0;34m\u001b[0m\u001b[0m\n\u001b[0;32m--> 138\u001b[0;31m             \u001b[0mbetweenness\u001b[0m \u001b[0;34m=\u001b[0m \u001b[0mnx\u001b[0m\u001b[0;34m.\u001b[0m\u001b[0medge_betweenness_centrality\u001b[0m\u001b[0;34m(\u001b[0m\u001b[0mG\u001b[0m\u001b[0;34m)\u001b[0m\u001b[0;34m\u001b[0m\u001b[0;34m\u001b[0m\u001b[0m\n\u001b[0m\u001b[1;32m    139\u001b[0m             \u001b[0;32mreturn\u001b[0m \u001b[0mmax\u001b[0m\u001b[0;34m(\u001b[0m\u001b[0mbetweenness\u001b[0m\u001b[0;34m,\u001b[0m \u001b[0mkey\u001b[0m\u001b[0;34m=\u001b[0m\u001b[0mbetweenness\u001b[0m\u001b[0;34m.\u001b[0m\u001b[0mget\u001b[0m\u001b[0;34m)\u001b[0m\u001b[0;34m\u001b[0m\u001b[0;34m\u001b[0m\u001b[0m\n\u001b[1;32m    140\u001b[0m \u001b[0;34m\u001b[0m\u001b[0m\n",
      "\u001b[0;32m~/anaconda3/lib/python3.8/site-packages/networkx/utils/decorators.py\u001b[0m in \u001b[0;36margmap_edge_betweenness_centrality_17\u001b[0;34m(G, k, normalized, weight, seed)\u001b[0m\n\u001b[1;32m      2\u001b[0m \u001b[0;32mfrom\u001b[0m \u001b[0mos\u001b[0m\u001b[0;34m.\u001b[0m\u001b[0mpath\u001b[0m \u001b[0;32mimport\u001b[0m \u001b[0msplitext\u001b[0m\u001b[0;34m\u001b[0m\u001b[0;34m\u001b[0m\u001b[0m\n\u001b[1;32m      3\u001b[0m \u001b[0;32mfrom\u001b[0m \u001b[0mcontextlib\u001b[0m \u001b[0;32mimport\u001b[0m \u001b[0mcontextmanager\u001b[0m\u001b[0;34m\u001b[0m\u001b[0;34m\u001b[0m\u001b[0m\n\u001b[0;32m----> 4\u001b[0;31m \u001b[0;32mfrom\u001b[0m \u001b[0mpathlib\u001b[0m \u001b[0;32mimport\u001b[0m \u001b[0mPath\u001b[0m\u001b[0;34m\u001b[0m\u001b[0;34m\u001b[0m\u001b[0m\n\u001b[0m\u001b[1;32m      5\u001b[0m \u001b[0;32mimport\u001b[0m \u001b[0mwarnings\u001b[0m\u001b[0;34m\u001b[0m\u001b[0;34m\u001b[0m\u001b[0m\n\u001b[1;32m      6\u001b[0m \u001b[0;34m\u001b[0m\u001b[0m\n",
      "\u001b[0;32m~/anaconda3/lib/python3.8/site-packages/networkx/algorithms/centrality/betweenness.py\u001b[0m in \u001b[0;36medge_betweenness_centrality\u001b[0;34m(G, k, normalized, weight, seed)\u001b[0m\n\u001b[1;32m    226\u001b[0m         \u001b[0;31m# single source shortest paths\u001b[0m\u001b[0;34m\u001b[0m\u001b[0;34m\u001b[0m\u001b[0;34m\u001b[0m\u001b[0m\n\u001b[1;32m    227\u001b[0m         \u001b[0;32mif\u001b[0m \u001b[0mweight\u001b[0m \u001b[0;32mis\u001b[0m \u001b[0;32mNone\u001b[0m\u001b[0;34m:\u001b[0m  \u001b[0;31m# use BFS\u001b[0m\u001b[0;34m\u001b[0m\u001b[0;34m\u001b[0m\u001b[0m\n\u001b[0;32m--> 228\u001b[0;31m             \u001b[0mS\u001b[0m\u001b[0;34m,\u001b[0m \u001b[0mP\u001b[0m\u001b[0;34m,\u001b[0m \u001b[0msigma\u001b[0m\u001b[0;34m,\u001b[0m \u001b[0m_\u001b[0m \u001b[0;34m=\u001b[0m \u001b[0m_single_source_shortest_path_basic\u001b[0m\u001b[0;34m(\u001b[0m\u001b[0mG\u001b[0m\u001b[0;34m,\u001b[0m \u001b[0ms\u001b[0m\u001b[0;34m)\u001b[0m\u001b[0;34m\u001b[0m\u001b[0;34m\u001b[0m\u001b[0m\n\u001b[0m\u001b[1;32m    229\u001b[0m         \u001b[0;32melse\u001b[0m\u001b[0;34m:\u001b[0m  \u001b[0;31m# use Dijkstra's algorithm\u001b[0m\u001b[0;34m\u001b[0m\u001b[0;34m\u001b[0m\u001b[0m\n\u001b[1;32m    230\u001b[0m             \u001b[0mS\u001b[0m\u001b[0;34m,\u001b[0m \u001b[0mP\u001b[0m\u001b[0;34m,\u001b[0m \u001b[0msigma\u001b[0m\u001b[0;34m,\u001b[0m \u001b[0m_\u001b[0m \u001b[0;34m=\u001b[0m \u001b[0m_single_source_dijkstra_path_basic\u001b[0m\u001b[0;34m(\u001b[0m\u001b[0mG\u001b[0m\u001b[0;34m,\u001b[0m \u001b[0ms\u001b[0m\u001b[0;34m,\u001b[0m \u001b[0mweight\u001b[0m\u001b[0;34m)\u001b[0m\u001b[0;34m\u001b[0m\u001b[0;34m\u001b[0m\u001b[0m\n",
      "\u001b[0;32m~/anaconda3/lib/python3.8/site-packages/networkx/algorithms/centrality/betweenness.py\u001b[0m in \u001b[0;36m_single_source_shortest_path_basic\u001b[0;34m(G, s)\u001b[0m\n\u001b[1;32m    262\u001b[0m     \u001b[0mQ\u001b[0m \u001b[0;34m=\u001b[0m \u001b[0;34m[\u001b[0m\u001b[0ms\u001b[0m\u001b[0;34m]\u001b[0m\u001b[0;34m\u001b[0m\u001b[0;34m\u001b[0m\u001b[0m\n\u001b[1;32m    263\u001b[0m     \u001b[0;32mwhile\u001b[0m \u001b[0mQ\u001b[0m\u001b[0;34m:\u001b[0m  \u001b[0;31m# use BFS to find shortest paths\u001b[0m\u001b[0;34m\u001b[0m\u001b[0;34m\u001b[0m\u001b[0m\n\u001b[0;32m--> 264\u001b[0;31m         \u001b[0mv\u001b[0m \u001b[0;34m=\u001b[0m \u001b[0mQ\u001b[0m\u001b[0;34m.\u001b[0m\u001b[0mpop\u001b[0m\u001b[0;34m(\u001b[0m\u001b[0;36m0\u001b[0m\u001b[0;34m)\u001b[0m\u001b[0;34m\u001b[0m\u001b[0;34m\u001b[0m\u001b[0m\n\u001b[0m\u001b[1;32m    265\u001b[0m         \u001b[0mS\u001b[0m\u001b[0;34m.\u001b[0m\u001b[0mappend\u001b[0m\u001b[0;34m(\u001b[0m\u001b[0mv\u001b[0m\u001b[0;34m)\u001b[0m\u001b[0;34m\u001b[0m\u001b[0;34m\u001b[0m\u001b[0m\n\u001b[1;32m    266\u001b[0m         \u001b[0mDv\u001b[0m \u001b[0;34m=\u001b[0m \u001b[0mD\u001b[0m\u001b[0;34m[\u001b[0m\u001b[0mv\u001b[0m\u001b[0;34m]\u001b[0m\u001b[0;34m\u001b[0m\u001b[0;34m\u001b[0m\u001b[0m\n",
      "\u001b[0;31mKeyboardInterrupt\u001b[0m: "
     ]
    }
   ],
   "source": [
    "algs = [\"louvain\", \"leiden\", \"girvan_newman\", \"infomap\"]\n",
    "timeArray = []\n",
    "\n",
    "start_time = time.time()\n",
    "dblpLouvain = algorithms.louvain(dblpNet)\n",
    "dataToJSON(dblpLouvain, 'dblp_louvain.data')\n",
    "t = time.time() - start_time\n",
    "print(\"Execution time for Louvain in email net: %.6s seconds\" % (t))\n",
    "timeArray.append(round(t,6))\n",
    "\n",
    "start_time = time.time()\n",
    "dblpLeiden = algorithms.leiden(dblpNet)\n",
    "dataToJSON(dblpLeiden, 'dblp_leiden.data')\n",
    "t = time.time() - start_time\n",
    "print(\"Execution time for Leiden in email net: %.6s seconds\" % (t))\n",
    "timeArray.append(round(t,6))\n",
    "\n",
    "start_time = time.time()\n",
    "dblpGN = algorithms.girvan_newman(dblpNet, level=3)\n",
    "dataToJSON(dblpGN, 'dblp_gn.data')\n",
    "t = time.time() - start_time\n",
    "print(\"Execution time for Girvan-Newman in email net: %.6s seconds\" % (t))\n",
    "timeArray.append(round(t,6))\n",
    "\n",
    "start_time = time.time()\n",
    "dblpInfomap = algorithms.infomap(dblpNet, \"--silent -N 2\")\n",
    "dataToJSON(dblpInfomap, 'dblp_infomap.data')\n",
    "t = time.time() - start_time\n",
    "print(\"Execution time for Infomap in email net: %.6s seconds\" % (t))\n",
    "timeArray.append(round(t,6))"
   ]
  },
  {
   "cell_type": "markdown",
   "metadata": {},
   "source": [
    "## Infomap"
   ]
  },
  {
   "cell_type": "code",
   "execution_count": null,
   "metadata": {},
   "outputs": [],
   "source": [
    "nComs = list(emailInfomap.to_node_community_map().values())[-1][0]+1\n",
    "size = evaluation.size(emailNet, emailInfomap)\n",
    "ad = evaluation.avg_distance(emailNet, emailInfomap)\n",
    "aid = evaluation.average_internal_degree(emailNet, emailInfomap)\n",
    "ae = evaluation.avg_embeddedness(emailNet, emailInfomap)\n",
    "at = evaluation.avg_transitivity(emailNet, emailInfomap)\n",
    "#hd = evaluation.hub_dominance(emailNet, emailInfomap)\n",
    "\n",
    "print(\"Infomap Number of communities:\", nComs)\n",
    "print(\"Infomap Size:\", size)\n",
    "print(\"Infomap Average Path Length:\",  ad)\n",
    "print(\"Infomap Average Internal Degree:\",  aid)\n",
    "print(\"Infomap Average Embeddedness:\",  ae)\n",
    "print(\"Infomap Average Transitivity:\",  at)\n",
    "#print(\"Infomap Hub Dominance:\",  hd)"
   ]
  },
  {
   "cell_type": "markdown",
   "metadata": {},
   "source": [
    "## LFR "
   ]
  },
  {
   "cell_type": "code",
   "execution_count": 23,
   "metadata": {},
   "outputs": [
    {
     "name": "stderr",
     "output_type": "stream",
     "text": [
      "100%|██████████| 10/10 [04:43<00:00, 28.35s/it]\n",
      "No handles with labels found to put in legend.\n"
     ]
    }
   ],
   "source": [
    "lfr, _ = LFR(500, 3, 1.5, 0.1, average_degree=5, min_community=20)\n",
    "levels = [7, 9, 11, 13, 15, 17, 19, 21, 23, 25]\n",
    "modularity_vals = []\n",
    "bestGNscore = 0\n",
    "bestGNcut = 0\n",
    "\n",
    "for l in tqdm(levels):\n",
    "    lfrGN = algorithms.girvan_newman(lfr, l)\n",
    "    #print(\"GN mod for level %d:\" % (l), evaluation.newman_girvan_modularity(lfr,lfrGN))\n",
    "    a = evaluation.newman_girvan_modularity(lfr,lfrGN)\n",
    "    if a.score > bestGNscore:\n",
    "        bestGNscore = a.score\n",
    "        bestGNcut = l\n",
    "    modularity_vals.append(a.score)\n",
    "\n",
    "print(\"best modularity with %d is: %f\" % (bestGNcut, bestGNscore))\n",
    "    \n",
    "fig = plt.figure(figsize=(3*1.61803398875, 3))\n",
    "ax = plt.axes((0.2, 0.2, 0.70, 0.70), facecolor='w')\n",
    "\n",
    "ax.plot(levels, modularity_vals, \"-ro\")\n",
    "\n",
    "ax.set_xlabel(\"levels\")\n",
    "ax.set_ylabel(\"Modularity\")\n",
    "plt.xticks(levels)\n",
    "ax.set_title(\"Girvan-Newman Modularity LFR\")\n",
    "ax.legend()\n",
    "fig.savefig(figurePath/(\"Girvan-Newman_mod_lfr.png\"))\n",
    "plt.close(fig)\n"
   ]
  },
  {
   "cell_type": "markdown",
   "metadata": {},
   "source": [
    "## LFR results"
   ]
  },
  {
   "cell_type": "code",
   "execution_count": 29,
   "metadata": {},
   "outputs": [
    {
     "name": "stderr",
     "output_type": "stream",
     "text": [
      "100%|██████████| 7/7 [09:30<00:00, 81.54s/it]\n"
     ]
    }
   ],
   "source": [
    "n = 500\n",
    "tau1 = 3\n",
    "tau2 = 1.5\n",
    "#mu = 0.1\n",
    "mus = [0.1, 0.2, 0.3, 0.4, 0.5, 0.6, 0.7]\n",
    "b = \"LFR\"\n",
    "\n",
    "resultsLouvain = []\n",
    "resultsLeiden = []\n",
    "resultsInfomap = []\n",
    "resultsGN = []\n",
    "\n",
    "for mu in tqdm(mus):\n",
    "    lfrGraph, comsLFR = LFR(n, tau1, tau2, mu, average_degree=5, min_community=20)\n",
    "    \n",
    "    lfrLouvain = algorithms.louvain(lfrGraph)\n",
    "    lfrLeiden = algorithms.leiden(lfrGraph)\n",
    "    lfrInfomap = new_infomap(lfrGraph, \"-N 2\")\n",
    "    lfrGN = algorithms.girvan_newman(lfrGraph, level=15)\n",
    "    \n",
    "    nmi1 = evaluation.normalized_mutual_information(lfrLouvain, comsLFR)\n",
    "    resultsLouvain.append(nmi1[0])\n",
    "    nmi2 = evaluation.normalized_mutual_information(lfrLeiden, comsLFR)\n",
    "    resultsLeiden.append(nmi2[0])\n",
    "    nmi3 =  evaluation.normalized_mutual_information(lfrInfomap, comsLFR)\n",
    "    resultsInfomap.append(nmi3[0])\n",
    "    nmi4 =  evaluation.normalized_mutual_information(lfrGN, comsLFR)\n",
    "    resultsGN.append(nmi4[0])\n",
    "    \n",
    "\n",
    "fig = plt.figure(figsize=(3*1.61803398875, 3))\n",
    "ax = plt.axes((0.2, 0.2, 0.70, 0.70), facecolor='w')\n",
    "\n",
    "ax.plot(mus,resultsLouvain, \"-ro\", label = \"Louvain\")\n",
    "ax.plot(mus,resultsLeiden, \"-go\", label = \"Leiden\")\n",
    "ax.plot(mus,resultsInfomap, \"-bo\", label = \"Infomap\")\n",
    "ax.plot(mus,resultsGN, \"-yo\", label = \"Girvan-Newman\")\n",
    "\n",
    "ax.set_xlabel(chr(945+11))\n",
    "ax.set_ylabel(\"Performance\")\n",
    "ax.set_title(\"nmi Accuracy\")\n",
    "ax.legend()\n",
    "fig.savefig(figurePath/(\"Benchmark_Results_%s.png\" % (b)))\n",
    "plt.close(fig)"
   ]
  },
  {
   "cell_type": "code",
   "execution_count": null,
   "metadata": {},
   "outputs": [],
   "source": []
  },
  {
   "cell_type": "markdown",
   "metadata": {},
   "source": [
    "## SBM "
   ]
  },
  {
   "cell_type": "code",
   "execution_count": 42,
   "metadata": {},
   "outputs": [
    {
     "name": "stderr",
     "output_type": "stream",
     "text": [
      "100%|██████████| 1/1 [00:52<00:00, 52.41s/it]"
     ]
    },
    {
     "name": "stdout",
     "output_type": "stream",
     "text": [
      "0.3948255783688625\n",
      "best modularity with 2 is: 0.394826\n"
     ]
    },
    {
     "name": "stderr",
     "output_type": "stream",
     "text": [
      "\n"
     ]
    },
    {
     "data": {
      "text/plain": [
       "'\\nfig = plt.figure(figsize=(3*1.61803398875, 3))\\nax = plt.axes((0.2, 0.2, 0.70, 0.70), facecolor=\\'w\\')\\n\\nax.plot(levels, modularity_vals, \"-ro\")\\n\\nax.set_xlabel(\"levels\")\\nax.set_ylabel(\"Modularity\")\\nplt.xticks(levels)\\nax.set_title(\"Girvan-Newman Modularity SBM\")\\nfig.savefig(figurePath/(\"Girvan-Newman_mod_sbm.png\"))\\nplt.close(fig)\\n'"
      ]
     },
     "execution_count": 42,
     "metadata": {},
     "output_type": "execute_result"
    }
   ],
   "source": [
    "sizes = [32, 32, 32, 32]\n",
    "c = 0.1\n",
    "probs = [[0.8, c, c, c], [c, 0.8, c, c], [c, c, 0.8, c],[c, c, c, 0.8]]\n",
    "sbm, _ = SBM(sizes, probs, seed=10)\n",
    "\n",
    "levels = [2, 3, 4, 5, 6, 7, 8, 9]\n",
    "modularity_vals = []\n",
    "bestGNscore = 0\n",
    "bestGNcut = 0\n",
    "\n",
    "for l in tqdm(levels):\n",
    "    sbmGN = algorithms.girvan_newman(sbm, l)\n",
    "    a = evaluation.newman_girvan_modularity(sbm,sbmGN)\n",
    "    if a.score > bestGNscore:\n",
    "        bestGNscore = a.score\n",
    "        bestGNcut = l\n",
    "        print(bestGNscore)\n",
    "    modularity_vals.append(a.score)\n",
    "\n",
    "print(\"best modularity with %d is: %f\" % (bestGNcut, bestGNscore))\n",
    "\n",
    "\n",
    "fig = plt.figure(figsize=(3*1.61803398875, 3))\n",
    "ax = plt.axes((0.2, 0.2, 0.70, 0.70), facecolor='w')\n",
    "\n",
    "ax.plot(levels, modularity_vals, \"-ro\")\n",
    "\n",
    "ax.set_xlabel(\"levels\")\n",
    "ax.set_ylabel(\"Modularity\")\n",
    "plt.xticks(levels)\n",
    "ax.set_title(\"Girvan-Newman Modularity SBM\")\n",
    "fig.savefig(figurePath/(\"Girvan-Newman_mod_sbm.png\"))\n",
    "plt.close(fig)"
   ]
  },
  {
   "cell_type": "markdown",
   "metadata": {},
   "source": [
    "## SBM results"
   ]
  },
  {
   "cell_type": "code",
   "execution_count": 30,
   "metadata": {},
   "outputs": [
    {
     "name": "stderr",
     "output_type": "stream",
     "text": [
      "100%|██████████| 11/11 [09:50<00:00, 53.71s/it]\n"
     ]
    }
   ],
   "source": [
    "resultsLouvain = []\n",
    "resultsLeiden = []\n",
    "resultsInfomap = []\n",
    "resultsGN = []\n",
    "b = \"SBM\"\n",
    "\n",
    "mus = [0, 0.1, 0.2, 0.3, 0.4, 0.5, 0.6, 0.7, 0.8, 0.9, 1]\n",
    "\n",
    "sizes = [32, 32, 32, 32]\n",
    "for c in tqdm(mus):\n",
    "    probs = [[0.8, c, c, c], [c, 0.8, c, c], [c, c, 0.8, c],[c, c, c, 0.8]]\n",
    "    sbmGraph, comsSBM = SBM(sizes, probs, seed=10)\n",
    "\n",
    "    sbmLouvain = algorithms.louvain(sbmGraph)\n",
    "    sbmLeiden = algorithms.leiden(sbmGraph)\n",
    "    sbmInfomap = new_infomap(sbmGraph, \"-N 2\")\n",
    "    sbmGN = algorithms.girvan_newman(sbmGraph, level=3)\n",
    "\n",
    "    nmi1 = evaluation.normalized_mutual_information(sbmLouvain, comsSBM)\n",
    "    resultsLouvain.append(nmi1[0])\n",
    "    nmi2 = evaluation.normalized_mutual_information(sbmLeiden, comsSBM)\n",
    "    resultsLeiden.append(nmi2[0])\n",
    "    nmi3 =  evaluation.normalized_mutual_information(sbmInfomap, comsSBM)\n",
    "    resultsInfomap.append(nmi3[0])\n",
    "    nmi4 =  evaluation.normalized_mutual_information(sbmGN, comsSBM)\n",
    "    resultsGN.append(nmi4[0])\n",
    "\n",
    "fig = plt.figure(figsize=(3*1.61803398875, 3))\n",
    "ax = plt.axes((0.2, 0.2, 0.70, 0.70), facecolor='w')\n",
    "\n",
    "ax.plot(mus,resultsLouvain, \"-ro\", label = \"Louvain\")\n",
    "ax.plot(mus,resultsLeiden, \"-go\", label = \"Leiden\")\n",
    "ax.plot(mus,resultsInfomap, \"-bo\", label = \"Infomap\")\n",
    "ax.plot(mus,resultsGN, \"-yo\", label = \"GN\")\n",
    "\n",
    "ax.set_xlabel(chr(945+11))\n",
    "ax.set_ylabel(\"Performance\")\n",
    "ax.set_title(\"nmi Accuracy\")\n",
    "ax.legend()\n",
    "fig.savefig(figurePath/(\"Benchmark_Results_%s.png\" % (b)))\n",
    "plt.close(fig)\n"
   ]
  }
 ],
 "metadata": {
  "kernelspec": {
   "display_name": "Python 3 (ipykernel)",
   "language": "python",
   "name": "python3"
  },
  "language_info": {
   "codemirror_mode": {
    "name": "ipython",
    "version": 3
   },
   "file_extension": ".py",
   "mimetype": "text/x-python",
   "name": "python",
   "nbconvert_exporter": "python",
   "pygments_lexer": "ipython3",
   "version": "3.8.12"
  }
 },
 "nbformat": 4,
 "nbformat_minor": 2
}
