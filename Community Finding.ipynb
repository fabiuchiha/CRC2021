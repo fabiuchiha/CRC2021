{
 "cells": [
  {
   "cell_type": "markdown",
   "metadata": {},
   "source": [
    "## Imports and utils"
   ]
  },
  {
   "cell_type": "code",
   "execution_count": 1,
   "metadata": {},
   "outputs": [],
   "source": [
    "import networkx as nx\n",
    "import csv\n",
    "import time\n",
    "import pandas as pd\n",
    "from cdlib import algorithms, readwrite, evaluation\n",
    "import infomap"
   ]
  },
  {
   "cell_type": "code",
   "execution_count": 2,
   "metadata": {},
   "outputs": [
    {
     "name": "stdout",
     "output_type": "stream",
     "text": [
      "Graph with 1005 nodes and 16706 edges\n"
     ]
    }
   ],
   "source": [
    "def datafileToGraph(fileName):\n",
    "    emailRaw = pd.read_csv(fileName, header=None)\n",
    "    emailRaw = emailRaw[0].str.split(n=2, expand=True)\n",
    "    emailRaw.columns = ['Source', 'Target']\n",
    "    #print(emailRaw)\n",
    "    emailNetwork = nx.from_pandas_edgelist(emailRaw, source='Source', target='Target', edge_attr=None)\n",
    "    #nx.draw(emailNetwork)  \n",
    "    return emailNetwork\n",
    "emailNet = datafileToGraph('emailNet.txt')\n",
    "print(emailNet)"
   ]
  },
  {
   "cell_type": "code",
   "execution_count": 39,
   "metadata": {},
   "outputs": [],
   "source": [
    "def averageDegree(networkx):\n",
    "    degrees = [val for (node, val) in networkx.degree()]\n",
    "    sum = 0\n",
    "    for d in degrees:\n",
    "        sum += d\n",
    "    return sum/len(degrees)"
   ]
  },
  {
   "cell_type": "markdown",
   "metadata": {},
   "source": [
    "## Email network properties "
   ]
  },
  {
   "cell_type": "code",
   "execution_count": 40,
   "metadata": {},
   "outputs": [
    {
     "name": "stdout",
     "output_type": "stream",
     "text": [
      "Average degree: 33.245771144278606\n"
     ]
    }
   ],
   "source": [
    "print(\"Average degree:\", averageDegree(emailNet))"
   ]
  },
  {
   "cell_type": "markdown",
   "metadata": {},
   "source": [
    "## Community finding methods for the email network"
   ]
  },
  {
   "cell_type": "code",
   "execution_count": null,
   "metadata": {},
   "outputs": [
    {
     "name": "stdout",
     "output_type": "stream",
     "text": [
      "Execution time for Louvain in email net: 1.4616 seconds\n"
     ]
    }
   ],
   "source": [
    "start_time = time.time()\n",
    "emailLouvain = algorithms.louvain(emailNet)\n",
    "print(\"Execution time for Louvain in email net: %.6s seconds\" % (time.time() - start_time))\n",
    "start_time = time.time()\n",
    "emailGN = algorithms.girvan_newman(emailNet, level=3)\n",
    "print(\"Execution time for Girvan-Newman in email net: %.6s seconds\" % (time.time() - start_time))\n",
    "start_time = time.time()\n",
    "#emailKC = algorithms.kclique(emailNet, k=10)\n",
    "print(\"Execution time for KCliques in email net: %.6s seconds\" % (time.time() - start_time))\n",
    "emailInfomap = infomap.Infomap(silent=True, num_trials=10)\n",
    "emailInfomap.read_file(\"emailNet.txt\")\n",
    "start_time = time.time()\n",
    "emailInfomap.run()\n",
    "print(\"Execution time for Infomap in email net: %.6s seconds\" % (time.time() - start_time))"
   ]
  },
  {
   "cell_type": "markdown",
   "metadata": {},
   "source": [
    "## Louvain method"
   ]
  },
  {
   "cell_type": "code",
   "execution_count": 3,
   "metadata": {},
   "outputs": [
    {
     "name": "stdout",
     "output_type": "stream",
     "text": [
      "Louvain Size: FitnessResult(min=1, max=261, score=37.22222222222222, std=64.32978305306432)\n",
      "Louvain Average Path Length: FitnessResult(min=0, max=2.3716180371352786, score=0.6392902534004595, std=0.989179262730051)\n",
      "Louvain Average Internal Degree: FitnessResult(min=2.0, max=25.22222222222222, score=7.18398189864131, std=8.232092674228479)\n",
      "Louvain Average Embeddedness: FitnessResult(min=0.5466830894380645, max=1.0, score=0.9175635952607045, std=0.1340199174233298)\n",
      "Louvain Average Transitivity: FitnessResult(min=0.0, max=0.7350972398842094, score=0.15928893592655843, std=0.24983574801483868)\n",
      "Louvain Hub Dominance: FitnessResult(min=0.4115384615384615, max=0.7014925373134329, score=0.5614501513977875, std=0.0882550992567745)\n",
      "Louvain Significance: FitnessResult(min=None, max=None, score=61927.644126528896, std=None)\n"
     ]
    }
   ],
   "source": [
    "louvain = algorithms.louvain(emailNet, randomize=False)\n",
    "\n",
    "size = evaluation.size(emailNet, louvain)\n",
    "ad = evaluation.avg_distance(emailNet, louvain)\n",
    "aid = evaluation.average_internal_degree(emailNet, louvain)\n",
    "ae = evaluation.avg_embeddedness(emailNet, louvain)\n",
    "at = evaluation.avg_transitivity(emailNet, louvain)\n",
    "hd = evaluation.hub_dominance(emailNet, louvain)\n",
    "s = evaluation.significance(emailNet, louvain)\n",
    "\n",
    "print(\"Louvain Size:\", size)\n",
    "print(\"Louvain Average Path Length:\",  ad)\n",
    "print(\"Louvain Average Internal Degree:\",  aid)\n",
    "print(\"Louvain Average Embeddedness:\",  ae)\n",
    "print(\"Louvain Average Transitivity:\",  at)\n",
    "print(\"Louvain Hub Dominance:\",  hd)\n",
    "print(\"Louvain Significance:\", s)"
   ]
  },
  {
   "cell_type": "code",
   "execution_count": 10,
   "metadata": {
    "scrolled": true
   },
   "outputs": [],
   "source": [
    "louvainDict = louvain.to_node_community_map()\n",
    "#print(louvainDict)\n",
    "#louvain.to_json()"
   ]
  },
  {
   "cell_type": "markdown",
   "metadata": {},
   "source": [
    "## Leiden method "
   ]
  },
  {
   "cell_type": "code",
   "execution_count": 5,
   "metadata": {},
   "outputs": [
    {
     "name": "stdout",
     "output_type": "stream",
     "text": [
      "Leiden Size: FitnessResult(min=1, max=304, score=30.454545454545453, std=66.48904713131142)\n",
      "Leiden Average Path Length: FitnessResult(min=0, max=2.353051948051948, score=0.508191201499132, std=0.9065447028670119)\n",
      "Leiden Average Internal Degree: FitnessResult(min=2.0, max=24.761061946902654, score=6.0269345157410354, std=7.733023565260327)\n",
      "Leiden Average Embeddedness: FitnessResult(min=0.5356463675213675, max=1.0, score=0.873095564148379, std=0.15405771690515224)\n",
      "Leiden Average Transitivity: FitnessResult(min=0.0, max=0.7327577583712487, score=0.1336083284039451, std=0.23987844077413756)\n",
      "Leiden Hub Dominance: FitnessResult(min=0.42857142857142855, max=1.1428571428571428, score=0.6164170022951139, std=0.21582328997876116)\n",
      "Leiden Significance: FitnessResult(min=None, max=None, score=64292.9327862404, std=None)\n"
     ]
    }
   ],
   "source": [
    "leiden = algorithms.leiden(emailNet)\n",
    "\n",
    "size = evaluation.size(emailNet, leiden)\n",
    "ad = evaluation.avg_distance(emailNet, leiden)\n",
    "aid = evaluation.average_internal_degree(emailNet, leiden)\n",
    "ae = evaluation.avg_embeddedness(emailNet, leiden)\n",
    "at = evaluation.avg_transitivity(emailNet, leiden)\n",
    "hd = evaluation.hub_dominance(emailNet, leiden)\n",
    "s = evaluation.significance(emailNet, leiden)\n",
    "\n",
    "print(\"Leiden Size:\", size)\n",
    "print(\"Leiden Average Path Length:\",  ad)\n",
    "print(\"Leiden Average Internal Degree:\",  aid)\n",
    "print(\"Leiden Average Embeddedness:\",  ae)\n",
    "print(\"Leiden Average Transitivity:\",  at)\n",
    "print(\"Leiden Hub Dominance:\",  hd)\n",
    "print(\"Leiden Significance:\", s)"
   ]
  },
  {
   "cell_type": "markdown",
   "metadata": {},
   "source": [
    "## Modularity"
   ]
  },
  {
   "cell_type": "code",
   "execution_count": 6,
   "metadata": {},
   "outputs": [
    {
     "name": "stdout",
     "output_type": "stream",
     "text": [
      "Louvain Girvan-Newman mod: FitnessResult(min=None, max=None, score=0.43215837750885905, std=None)\n",
      "Louvain Erdos-Renyi mod: FitnessResult(min=None, max=None, score=0.45267147482823566, std=None)\n",
      "Louvain Z-mod: FitnessResult(min=None, max=None, score=1.1577714911318295, std=None)\n",
      "\n",
      "Leiden Girvan-Newman mod: FitnessResult(min=None, max=None, score=0.4328989259954435, std=None)\n",
      "Leiden Erdos-Renyi mod: FitnessResult(min=None, max=None, score=0.459745303278471, std=None)\n",
      "Leiden Z-mod mod: FitnessResult(min=None, max=None, score=1.0806990083303127, std=None)\n"
     ]
    }
   ],
   "source": [
    "louvainGN = evaluation.newman_girvan_modularity(emailNet, louvain)\n",
    "louvainER = evaluation.erdos_renyi_modularity(emailNet, louvain)\n",
    "louvainZ = evaluation.z_modularity(emailNet, louvain)\n",
    "\n",
    "leidenGN = evaluation.newman_girvan_modularity(emailNet, leiden)\n",
    "leidenER = evaluation.erdos_renyi_modularity(emailNet, leiden)\n",
    "leidenZ = evaluation.z_modularity(emailNet, leiden)\n",
    "\n",
    "print(\"Louvain Girvan-Newman mod:\", louvainGN)\n",
    "print(\"Louvain Erdos-Renyi mod:\", louvainER)\n",
    "print(\"Louvain Z-mod:\", louvainZ)\n",
    "print()\n",
    "print(\"Leiden Girvan-Newman mod:\", leidenGN)\n",
    "print(\"Leiden Erdos-Renyi mod:\", leidenER)\n",
    "print(\"Leiden Z-mod mod:\", leidenZ)"
   ]
  },
  {
   "cell_type": "markdown",
   "metadata": {},
   "source": [
    "## External Evaluation"
   ]
  },
  {
   "cell_type": "code",
   "execution_count": 7,
   "metadata": {},
   "outputs": [
    {
     "name": "stdout",
     "output_type": "stream",
     "text": [
      "Normalized Mutual Information between Louvain and Leiden: MatchingResult(score=0.8102393361458828, std=None)\n",
      "Adjusted Mutual Information between Louvain and Leiden: MatchingResult(score=0.7992288953958384, std=None)\n",
      "Adjusted Rand Index between Louvain and Leiden: MatchingResult(score=0.7235333319811447, std=None)\n",
      "F1 measure between Louvain and Leiden: MatchingResult(score=0.9462962962962962, std=0.14000391920832067)\n",
      "Variation of information between Louvain and Leiden: MatchingResult(score=1.1175518597870175, std=None)\n"
     ]
    }
   ],
   "source": [
    "nmi = evaluation.normalized_mutual_information(louvain, leiden)\n",
    "ami = evaluation.adjusted_mutual_information(louvain, leiden)\n",
    "ari = evaluation.adjusted_rand_index(louvain, leiden)\n",
    "f1 = evaluation.f1(louvain, leiden)\n",
    "voi = evaluation.variation_of_information(louvain, leiden)\n",
    "\n",
    "print(\"Normalized Mutual Information between Louvain and Leiden:\", nmi)\n",
    "print(\"Adjusted Mutual Information between Louvain and Leiden:\", ami)\n",
    "print(\"Adjusted Rand Index between Louvain and Leiden:\", ari)\n",
    "print(\"F1 measure between Louvain and Leiden:\", f1)\n",
    "print(\"Variation of information between Louvain and Leiden:\", voi)"
   ]
  },
  {
   "cell_type": "markdown",
   "metadata": {},
   "source": [
    "## Email Labels import "
   ]
  },
  {
   "cell_type": "code",
   "execution_count": 8,
   "metadata": {},
   "outputs": [],
   "source": [
    "def convertTextDatasetToCSV(txtFile, csvFile):\n",
    "    txtFile = open(txtFile, 'r')\n",
    "    \n",
    "    txtLines = txtFile.readlines()\n",
    "    csvLines = {}\n",
    "    \n",
    "    for line in txtLines:\n",
    "        lineVec = line[:-1].split(' ')\n",
    "        if lineVec[1] in csvLines.keys():\n",
    "            csvLines[lineVec[1]].append(lineVec[0])\n",
    "        else:\n",
    "            csvLines[lineVec[1]] = [lineVec[0]]\n",
    "            \n",
    "    with open(csvFile, 'w',newline=\"\") as csv_file:  \n",
    "        writer = csv.writer(csv_file)\n",
    "        for key, value in csvLines.items():\n",
    "            writer.writerow(value)\n",
    "        \n",
    "convertTextDatasetToCSV('emailLabels.txt', 'emailLabels.csv')\n",
    "emailLabels = readwrite.read_community_csv(\"emailLabels.csv\", \",\", str)"
   ]
  },
  {
   "cell_type": "code",
   "execution_count": 9,
   "metadata": {},
   "outputs": [
    {
     "name": "stdout",
     "output_type": "stream",
     "text": [
      "NMI for Louvain and labels: MatchingResult(score=0.6005609123420333, std=None)\n",
      "NMI for Leiden and labels: MatchingResult(score=0.5702335748478711, std=None)\n"
     ]
    }
   ],
   "source": [
    "nmiLouvainLabels = louvain.normalized_mutual_information(emailLabels)\n",
    "nmiLeidenLabels = leiden.normalized_mutual_information(emailLabels)\n",
    "\n",
    "print(\"NMI for Louvain and labels:\", nmiLouvainLabels)\n",
    "print(\"NMI for Leiden and labels:\", nmiLeidenLabels)"
   ]
  },
  {
   "cell_type": "code",
   "execution_count": null,
   "metadata": {},
   "outputs": [],
   "source": []
  }
 ],
 "metadata": {
  "kernelspec": {
   "display_name": "Python 3 (ipykernel)",
   "language": "python",
   "name": "python3"
  },
  "language_info": {
   "codemirror_mode": {
    "name": "ipython",
    "version": 3
   },
   "file_extension": ".py",
   "mimetype": "text/x-python",
   "name": "python",
   "nbconvert_exporter": "python",
   "pygments_lexer": "ipython3",
   "version": "3.7.10"
  }
 },
 "nbformat": 4,
 "nbformat_minor": 2
}
