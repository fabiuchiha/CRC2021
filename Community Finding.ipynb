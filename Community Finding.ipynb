{
 "cells": [
  {
   "cell_type": "markdown",
   "metadata": {},
   "source": [
    "## Imports and utils"
   ]
  },
  {
   "cell_type": "code",
   "execution_count": 1,
   "metadata": {},
   "outputs": [],
   "source": [
    "import networkx as nx\n",
    "import csv\n",
    "import time\n",
    "import pandas as pd\n",
    "from cdlib import algorithms, readwrite, evaluation, NodeClustering\n",
    "from cdlib.benchmark import LFR, SBM, GRP\n",
    "import infomap\n",
    "from collections import defaultdict\n",
    "import matplotlib.pyplot as plt\n",
    "from tqdm import tqdm\n",
    "import numpy as np\n",
    "from pathlib import Path\n",
    "import pickle"
   ]
  },
  {
   "cell_type": "code",
   "execution_count": 2,
   "metadata": {},
   "outputs": [],
   "source": [
    "figurePath = Path(\"Figures\")"
   ]
  },
  {
   "cell_type": "code",
   "execution_count": 3,
   "metadata": {},
   "outputs": [],
   "source": [
    "def datafileToGraph(fileName):\n",
    "    raw = pd.read_csv(fileName, header=None)\n",
    "    raw = raw[0].str.split(n=2, expand=True)\n",
    "    raw.columns = ['Source', 'Target']\n",
    "    #print(emailRaw)\n",
    "    network = nx.from_pandas_edgelist(raw, source='Source', target='Target', edge_attr=None)\n",
    "    #nx.draw(emailNetwork)  \n",
    "    network.name = fileName.split(\".\")[0]\n",
    "    return network"
   ]
  },
  {
   "cell_type": "code",
   "execution_count": 4,
   "metadata": {},
   "outputs": [],
   "source": [
    "def averageDegree(networkx):\n",
    "    degrees = [val for (node, val) in networkx.degree()]\n",
    "    sum = 0\n",
    "    for d in degrees:\n",
    "        sum += d\n",
    "    return sum/len(degrees)"
   ]
  },
  {
   "cell_type": "code",
   "execution_count": 5,
   "metadata": {},
   "outputs": [],
   "source": [
    "def new_infomap(g_original: object, flags: str = \"\") -> NodeClustering:\n",
    "    \n",
    "    g1 = nx.convert_node_labels_to_integers(g_original, label_attribute=\"name\")\n",
    "    name_map = nx.get_node_attributes(g1, \"name\")\n",
    "    coms_to_node = defaultdict(list)\n",
    "    \n",
    "    flags += \" --silent\"\n",
    "\n",
    "    im = infomap.Infomap(flags)\n",
    "\n",
    "    im.add_nodes(g_original.nodes)\n",
    "\n",
    "    for source, target, data in g1.edges(data=True):\n",
    "        if \"weight\" in data:\n",
    "            im.add_link(source, target, data[\"weight\"])\n",
    "        else:\n",
    "            im.add_link(source, target)\n",
    "    im.run()\n",
    "\n",
    "    for node_id, module_id in im.modules:\n",
    "        node_name = name_map[node_id]\n",
    "        coms_to_node[module_id].append(node_name)\n",
    "\n",
    "    coms_infomap = [list(c) for c in coms_to_node.values()]\n",
    "    \n",
    "    return NodeClustering(\n",
    "        coms_infomap, g_original, \"Infomap\", method_parameters={\"flags\": flags}\n",
    "    )"
   ]
  },
  {
   "cell_type": "code",
   "execution_count": 6,
   "metadata": {},
   "outputs": [],
   "source": [
    "def network_info(network, graph = \"False\"):\n",
    "    #print(\"Degree distribution:\", nx.degree_histogram(emailNet))\n",
    "    print(\"Average degree:\", averageDegree(network))\n",
    "    print(\"Clustering coefficient:\", nx.average_clustering(network))\n",
    "\n",
    "    for C in (network.subgraph(c) for c in nx.connected_components(network)):\n",
    "        print(\"Average Path Length:\", nx.average_shortest_path_length(C))\n",
    "        #break\n",
    "\n",
    "\n",
    "    if graph:\n",
    "        #plot deggre centrality\n",
    "        fig = plt.figure(figsize=(3*1.61803398875, 3))\n",
    "        ax = plt.axes((0.2, 0.2, 0.70, 0.70), facecolor='w')\n",
    "        d = np.array(nx.degree_histogram(network))\n",
    "        y = d / len(network.nodes)\n",
    "        x = np.arange(len(y))\n",
    "        ax.plot(x,y,\"go\")\n",
    "        ax.set_xlabel(\"k\")\n",
    "        ax.set_ylabel(\"Pk\")\n",
    "        ax.set_yscale('log')\n",
    "        ax.set_xscale('log')\n",
    "        ax.set_title(\"Degree distribution\")\n",
    "        #ax.legend()\n",
    "        fig.savefig(figurePath/(\"DegreeDistribution_%s.png\" % (network.name)))\n",
    "        plt.close(fig)"
   ]
  },
  {
   "cell_type": "code",
   "execution_count": 7,
   "metadata": {},
   "outputs": [
    {
     "name": "stdout",
     "output_type": "stream",
     "text": [
      "<class 'cdlib.classes.node_clustering.NodeClustering'>\n"
     ]
    }
   ],
   "source": [
    "def convertTextDatasetToCSV(txtFile, csvFile):\n",
    "    txtFile = open(txtFile, 'r')\n",
    "    \n",
    "    txtLines = txtFile.readlines()\n",
    "    csvLines = {}\n",
    "    \n",
    "    for line in txtLines:\n",
    "        lineVec = line[:-1].split(' ')\n",
    "        if lineVec[1] in csvLines.keys():\n",
    "            csvLines[lineVec[1]].append(lineVec[0])\n",
    "        else:\n",
    "            csvLines[lineVec[1]] = [lineVec[0]]\n",
    "            \n",
    "    with open(csvFile, 'w',newline=\"\") as csv_file:  \n",
    "        writer = csv.writer(csv_file)\n",
    "        for key, value in csvLines.items():\n",
    "            writer.writerow(value)\n",
    "        \n",
    "convertTextDatasetToCSV('emailLabels.txt', 'emailLabels.csv')\n",
    "emailLabels = readwrite.read_community_csv(\"emailLabels.csv\", \",\", str)\n",
    "print(type(emailLabels))"
   ]
  },
  {
   "cell_type": "code",
   "execution_count": 11,
   "metadata": {},
   "outputs": [
    {
     "name": "stdout",
     "output_type": "stream",
     "text": [
      "317080\n"
     ]
    }
   ],
   "source": [
    "dblpLabels = readwrite.read_community_csv(\"dblpLabelsComplete.txt\", \"\\t\", str)\n",
    "print(len(list(dblpLabels.to_node_community_map().keys())))"
   ]
  },
  {
   "cell_type": "code",
   "execution_count": 12,
   "metadata": {},
   "outputs": [],
   "source": [
    "def dataToJSON(data, filename):\n",
    "    with open(filename, 'wb') as object_file:\n",
    "        pickle.dump(data, object_file)"
   ]
  },
  {
   "cell_type": "code",
   "execution_count": 13,
   "metadata": {},
   "outputs": [],
   "source": [
    "def JSONtoData(fileName):\n",
    "    with open(fileName, 'rb') as object_file:\n",
    "        data = pickle.load(object_file)\n",
    "        return data"
   ]
  },
  {
   "cell_type": "code",
   "execution_count": 14,
   "metadata": {},
   "outputs": [],
   "source": [
    "def bestGN(network, levels):\n",
    "    print(network.name)\n",
    "    modularity_vals = []\n",
    "    bestGNscore = 0\n",
    "    bestGNcut = 0\n",
    "\n",
    "    for l in tqdm(levels):\n",
    "        networkGN = algorithms.girvan_newman(network, l)\n",
    "        a = evaluation.newman_girvan_modularity(network, networkGN)\n",
    "        if a.score > bestGNscore:\n",
    "            bestGNscore = a.score\n",
    "            bestGNcut = l\n",
    "        modularity_vals.append(a.score)\n",
    "\n",
    "    print(\"best modularity with %d is: %f\" % (bestGNcut, bestGNscore))\n",
    "\n",
    "    fig = plt.figure(figsize=(3*1.61803398875, 3))\n",
    "    ax = plt.axes((0.2, 0.2, 0.70, 0.70), facecolor='w')\n",
    "\n",
    "    ax.plot(levels, modularity_vals, \"-ro\")\n",
    "\n",
    "    ax.set_xlabel(\"levels\")\n",
    "    ax.set_ylabel(\"Modularity\")\n",
    "    plt.xticks(levels)\n",
    "    ax.set_title(\"Girvan-Newman Modularity Email\")\n",
    "    ax.legend()\n",
    "    fig.savefig(figurePath/(\"Girvan-Newman_mod_%s.png\" % (network.name)))\n",
    "    plt.close(fig)"
   ]
  },
  {
   "cell_type": "code",
   "execution_count": 16,
   "metadata": {},
   "outputs": [],
   "source": [
    "def bestInfomap(network, trials):\n",
    "    print(network.name)\n",
    "    modularity_vals = []\n",
    "    bestGNscore = 0\n",
    "    bestGNcut = 0\n",
    "    Flags = \"--silent -N \"\n",
    "    for t in tqdm(trials):\n",
    "        Flags += str(t)\n",
    "        networkInfomap = algorithms.infomap(emailNet, Flags)\n",
    "        a = evaluation.newman_girvan_modularity(network, networkInfomap)\n",
    "        if a.score > bestGNscore:\n",
    "            bestGNscore = a.score\n",
    "            bestGNtrial = t\n",
    "        modularity_vals.append(a.score)\n",
    "\n",
    "    print(\"best modularity with %d is: %f\" % (bestGNtrial, bestGNscore))\n",
    "\n",
    "    fig = plt.figure(figsize=(3*1.61803398875, 3))\n",
    "    ax = plt.axes((0.2, 0.2, 0.70, 0.70), facecolor='w')\n",
    "\n",
    "    ax.plot(levels, modularity_vals, \"-ro\")\n",
    "\n",
    "    ax.set_xlabel(\"Trials\")\n",
    "    ax.set_ylabel(\"Modularity\")\n",
    "    plt.xticks(levels)\n",
    "    ax.set_title(\"Infomap Modularity Email\")\n",
    "    ax.legend()\n",
    "    fig.savefig(figurePath/(\"Infomap_mod_%s.png\" % (network.name)))\n",
    "    plt.close(fig)"
   ]
  },
  {
   "cell_type": "markdown",
   "metadata": {},
   "source": [
    "## Email network"
   ]
  },
  {
   "cell_type": "code",
   "execution_count": 17,
   "metadata": {},
   "outputs": [
    {
     "name": "stdout",
     "output_type": "stream",
     "text": [
      "Graph named 'emailNet' with 1005 nodes and 16706 edges\n"
     ]
    }
   ],
   "source": [
    "emailNet = datafileToGraph('emailNet.txt')\n",
    "print(emailNet)"
   ]
  },
  {
   "cell_type": "markdown",
   "metadata": {},
   "source": [
    "## Email network properties "
   ]
  },
  {
   "cell_type": "code",
   "execution_count": 18,
   "metadata": {},
   "outputs": [
    {
     "name": "stdout",
     "output_type": "stream",
     "text": [
      "Average degree: 33.245771144278606\n",
      "Clustering coefficient: 0.3993549664221539\n",
      "Average Path Length: 2.586933824816466\n",
      "Average Path Length: 0\n",
      "Average Path Length: 0\n",
      "Average Path Length: 0\n",
      "Average Path Length: 0\n",
      "Average Path Length: 0\n",
      "Average Path Length: 0\n",
      "Average Path Length: 0\n",
      "Average Path Length: 0\n",
      "Average Path Length: 0\n",
      "Average Path Length: 0\n",
      "Average Path Length: 0\n",
      "Average Path Length: 0\n",
      "Average Path Length: 0\n",
      "Average Path Length: 0\n",
      "Average Path Length: 0\n",
      "Average Path Length: 0\n",
      "Average Path Length: 0\n",
      "Average Path Length: 0\n",
      "Average Path Length: 0\n"
     ]
    }
   ],
   "source": [
    "network_info(emailNet)"
   ]
  },
  {
   "cell_type": "code",
   "execution_count": 23,
   "metadata": {},
   "outputs": [
    {
     "name": "stderr",
     "output_type": "stream",
     "text": [
      "100%|██████████| 11/11 [53:45<00:00, 293.19s/it]\n",
      "No handles with labels found to put in legend.\n"
     ]
    },
    {
     "name": "stdout",
     "output_type": "stream",
     "text": [
      "best modularity with 21 is: 0.003584\n"
     ]
    }
   ],
   "source": [
    "levels = [19, 21, 23, 25, 27, 29, 31, 33, 35]\n",
    "bestGN(emailNet,levels)"
   ]
  },
  {
   "cell_type": "markdown",
   "metadata": {},
   "source": [
    "## Community finding methods for the email network"
   ]
  },
  {
   "cell_type": "code",
   "execution_count": 19,
   "metadata": {},
   "outputs": [
    {
     "name": "stdout",
     "output_type": "stream",
     "text": [
      "Execution time for Louvain in email net: 0.6200 seconds\n",
      "Execution time for Leiden in email net: 0.1308 seconds\n",
      "Execution time for Girvan-Newman in email net: 401.77 seconds\n",
      "Execution time for Infomap in email net: 0.1830 seconds\n"
     ]
    }
   ],
   "source": [
    "algs = [\"louvain\", \"leiden\", \"girvan_newman\", \"infomap\"]\n",
    "timeArray = []\n",
    "\n",
    "start_time = time.time()\n",
    "emailLouvain = algorithms.louvain(emailNet)\n",
    "t = time.time() - start_time\n",
    "print(\"Execution time for Louvain in email net: %.6s seconds\" % (t))\n",
    "timeArray.append(round(t,6))\n",
    "\n",
    "start_time = time.time()\n",
    "emailLeiden = algorithms.leiden(emailNet)\n",
    "t = time.time() - start_time\n",
    "print(\"Execution time for Leiden in email net: %.6s seconds\" % (t))\n",
    "timeArray.append(round(t,6))\n",
    "\n",
    "start_time = time.time()\n",
    "emailGN = algorithms.girvan_newman(emailNet, level=21)\n",
    "t = time.time() - start_time\n",
    "print(\"Execution time for Girvan-Newman in email net: %.6s seconds\" % (t))\n",
    "timeArray.append(round(t,6))\n",
    "\n",
    "start_time = time.time()\n",
    "emailInfomap = algorithms.infomap(emailNet, \"--silent -N 2\")\n",
    "t = time.time() - start_time\n",
    "print(\"Execution time for Infomap in email net: %.6s seconds\" % (t))\n",
    "timeArray.append(round(t,6))"
   ]
  },
  {
   "cell_type": "code",
   "execution_count": 20,
   "metadata": {},
   "outputs": [],
   "source": [
    "fig = plt.figure(figsize=(3*1.61803398875, 3))\n",
    "ax = plt.axes((0.2, 0.2, 0.70, 0.70), facecolor='w')\n",
    "\n",
    "width = 8.2 / (len(algs)*len(timeArray))  # the width of the bars\n",
    "step = width / len(algs)\n",
    "\n",
    "for alg_id in range(len(algs)):\n",
    "    ax.bar(algs[alg_id], timeArray[alg_id], step, label=algs[alg_id])\n",
    "      \n",
    "ax.set_ylabel(\"Execution time\")\n",
    "ax.set_title(\"Execution time\")\n",
    "ax.set_yscale('log')\n",
    "fig.savefig(figurePath/(\"Execution_Time%s.png\" % (emailNet.name)))\n",
    "plt.close(fig)"
   ]
  },
  {
   "cell_type": "markdown",
   "metadata": {},
   "source": [
    "## Louvain properties"
   ]
  },
  {
   "cell_type": "code",
   "execution_count": 21,
   "metadata": {},
   "outputs": [
    {
     "name": "stdout",
     "output_type": "stream",
     "text": [
      "Louvain Number of communities: 26\n",
      "Louvain Average Community Size: FitnessResult(min=1, max=300, score=38.65384615384615, std=79.21778272958488)\n",
      "Louvain Average Path Length: FitnessResult(min=0, max=2.4806172136849427, score=0.5858553058795464, std=0.9705906888685905)\n",
      "Louvain Average Internal Degree: FitnessResult(min=2.0, max=25.517241379310345, score=6.690529195280717, std=8.375278276876205)\n",
      "Louvain Average Embeddedness: FitnessResult(min=0.5871633279111377, max=1.0, score=0.931051977595627, std=0.11902625977134039)\n",
      "Louvain Average Transitivity: FitnessResult(min=0.0, max=0.7705866949128367, score=0.14955667384623988, std=0.2531365394514653)\n"
     ]
    }
   ],
   "source": [
    "nComs = list(emailLouvain.to_node_community_map().values())[-1][0]+1\n",
    "size = evaluation.size(emailNet, emailLouvain)\n",
    "ad = evaluation.avg_distance(emailNet, emailLouvain)\n",
    "aid = evaluation.average_internal_degree(emailNet, emailLouvain)\n",
    "ae = evaluation.avg_embeddedness(emailNet, emailLouvain)\n",
    "at = evaluation.avg_transitivity(emailNet, emailLouvain)\n",
    "\n",
    "print(\"Louvain Number of communities:\", nComs)\n",
    "print(\"Louvain Average Community Size:\", size)\n",
    "print(\"Louvain Average Path Length:\",  ad)\n",
    "print(\"Louvain Average Internal Degree:\",  aid)\n",
    "print(\"Louvain Average Embeddedness:\",  ae)\n",
    "print(\"Louvain Average Transitivity:\",  at)"
   ]
  },
  {
   "cell_type": "code",
   "execution_count": 9,
   "metadata": {
    "scrolled": true
   },
   "outputs": [],
   "source": [
    "#louvainDict = louvain.to_node_community_map()\n",
    "#print(louvainDict)\n",
    "#louvain.to_json()"
   ]
  },
  {
   "cell_type": "markdown",
   "metadata": {},
   "source": [
    "## Leiden "
   ]
  },
  {
   "cell_type": "code",
   "execution_count": 22,
   "metadata": {},
   "outputs": [
    {
     "name": "stdout",
     "output_type": "stream",
     "text": [
      "Leiden Number of communities: 31\n",
      "Leiden Average Community Size: FitnessResult(min=1, max=293, score=32.41935483870968, std=67.29270400635562)\n",
      "Leiden Average Path Length: FitnessResult(min=0, max=2.4556404230317272, score=0.5570684147289684, std=0.9490694575435203)\n",
      "Leiden Average Internal Degree: FitnessResult(min=2.0, max=24.946428571428573, score=6.341576185459902, std=7.94560636688929)\n",
      "Leiden Average Embeddedness: FitnessResult(min=0.5872473658876585, max=1.0, score=0.887815944724878, std=0.1460282320945185)\n",
      "Leiden Average Transitivity: FitnessResult(min=0.0, max=0.7143330915508804, score=0.1438417275558572, std=0.24788021063725751)\n"
     ]
    }
   ],
   "source": [
    "nComs = list(emailLeiden.to_node_community_map().values())[-1][0]+1\n",
    "size = evaluation.size(emailNet, emailLeiden)\n",
    "ad = evaluation.avg_distance(emailNet, emailLeiden)\n",
    "aid = evaluation.average_internal_degree(emailNet, emailLeiden)\n",
    "ae = evaluation.avg_embeddedness(emailNet, emailLeiden)\n",
    "at = evaluation.avg_transitivity(emailNet, emailLeiden)\n",
    "\n",
    "print(\"Leiden Number of communities:\", nComs)\n",
    "print(\"Leiden Average Community Size:\", size)\n",
    "print(\"Leiden Average Path Length:\",  ad)\n",
    "print(\"Leiden Average Internal Degree:\",  aid)\n",
    "print(\"Leiden Average Embeddedness:\",  ae)\n",
    "print(\"Leiden Average Transitivity:\",  at)"
   ]
  },
  {
   "cell_type": "markdown",
   "metadata": {},
   "source": [
    "## Girvan-Newman"
   ]
  },
  {
   "cell_type": "code",
   "execution_count": 23,
   "metadata": {},
   "outputs": [
    {
     "name": "stdout",
     "output_type": "stream",
     "text": [
      "Girvan-Newman Number of communities: 41\n",
      "Girvan-Newman Size: FitnessResult(min=1, max=960, score=24.51219512195122, std=147.91561898286426)\n",
      "Girvan-Newman Average Path Length: FitnessResult(min=0, max=2.5465632603406325, score=0.10763975431725119, std=0.4812177109414415)\n",
      "Girvan-Newman Average Internal Degree: FitnessResult(min=0.0, max=34.68333333333333, score=2.0247967479674798, std=5.255162801455319)\n",
      "Girvan-Newman Average Embeddedness: FitnessResult(min=0.0, max=1.0, score=0.573140516458235, std=0.46856433534472747)\n",
      "Girvan-Newman Average Transitivity: FitnessResult(min=0.0, max=0.41873271609026597, score=0.01021299307537234, std=0.06459263969140863)\n"
     ]
    }
   ],
   "source": [
    "nComs = list(emailGN.to_node_community_map().values())[-1][0]+1\n",
    "size = evaluation.size(emailNet, emailGN)\n",
    "ad = evaluation.avg_distance(emailNet, emailGN)\n",
    "aid = evaluation.average_internal_degree(emailNet, emailGN)\n",
    "ae = evaluation.avg_embeddedness(emailNet, emailGN)\n",
    "at = evaluation.avg_transitivity(emailNet, emailGN)\n",
    "\n",
    "print(\"Girvan-Newman Number of communities:\", nComs)\n",
    "print(\"Girvan-Newman Size:\", size)\n",
    "print(\"Girvan-Newman Average Path Length:\",  ad)\n",
    "print(\"Girvan-Newman Average Internal Degree:\",  aid)\n",
    "print(\"Girvan-Newman Average Embeddedness:\",  ae)\n",
    "print(\"Girvan-Newman Average Transitivity:\",  at)"
   ]
  },
  {
   "cell_type": "code",
   "execution_count": null,
   "metadata": {
    "scrolled": true
   },
   "outputs": [],
   "source": [
    "print(emailInfomap.to_node_community_map())"
   ]
  },
  {
   "cell_type": "markdown",
   "metadata": {},
   "source": [
    "## Infomap"
   ]
  },
  {
   "cell_type": "code",
   "execution_count": 24,
   "metadata": {},
   "outputs": [
    {
     "name": "stdout",
     "output_type": "stream",
     "text": [
      "Infomap Number of communities: 34\n",
      "Infomap Size: FitnessResult(min=1, max=513, score=29.558823529411764, std=89.11235181317313)\n",
      "Infomap Average Path Length: FitnessResult(min=0, max=2.4256670321637426, score=0.6905898334658904, std=0.8372308904563356)\n",
      "Infomap Average Internal Degree: FitnessResult(min=1.0, max=29.57504873294347, score=6.322285857617108, std=7.915326374424319)\n",
      "Infomap Average Embeddedness: FitnessResult(min=0.41666666666666663, max=1.0, score=0.8548970779096592, std=0.18102253075576857)\n",
      "Infomap Average Transitivity: FitnessResult(min=0.0, max=0.8140800887261141, score=0.17305192051126927, std=0.28530274277818735)\n"
     ]
    }
   ],
   "source": [
    "nComs = list(emailInfomap.to_node_community_map().values())[-1][0]+1\n",
    "size = evaluation.size(emailNet, emailInfomap)\n",
    "ad = evaluation.avg_distance(emailNet, emailInfomap)\n",
    "aid = evaluation.average_internal_degree(emailNet, emailInfomap)\n",
    "ae = evaluation.avg_embeddedness(emailNet, emailInfomap)\n",
    "at = evaluation.avg_transitivity(emailNet, emailInfomap)\n",
    "\n",
    "print(\"Infomap Number of communities:\", nComs)\n",
    "print(\"Infomap Size:\", size)\n",
    "print(\"Infomap Average Path Length:\",  ad)\n",
    "print(\"Infomap Average Internal Degree:\",  aid)\n",
    "print(\"Infomap Average Embeddedness:\",  ae)\n",
    "print(\"Infomap Average Transitivity:\",  at)"
   ]
  },
  {
   "cell_type": "markdown",
   "metadata": {},
   "source": [
    "## Modularity"
   ]
  },
  {
   "cell_type": "code",
   "execution_count": 26,
   "metadata": {},
   "outputs": [
    {
     "name": "stdout",
     "output_type": "stream",
     "text": [
      "Louvain modularity: FitnessResult(min=None, max=None, score=0.43088719278076615, std=None)\n",
      "Leiden modularity: FitnessResult(min=None, max=None, score=0.4325852373529564, std=None)\n",
      "Girvan-Newman modularity: FitnessResult(min=None, max=None, score=0.0035840389743774913, std=None)\n",
      "Infomap modularity: FitnessResult(min=None, max=None, score=0.36285668348735556, std=None)\n"
     ]
    }
   ],
   "source": [
    "louvainMod = evaluation.newman_girvan_modularity(emailNet, emailLouvain)\n",
    "leidenMod = evaluation.newman_girvan_modularity(emailNet, emailLeiden)\n",
    "gnMod = evaluation.newman_girvan_modularity(emailNet, emailGN)\n",
    "infomapMod = evaluation.newman_girvan_modularity(emailNet, emailInfomap)\n",
    "\n",
    "print(\"Louvain modularity:\", louvainMod)\n",
    "print(\"Leiden modularity:\", leidenMod)\n",
    "print(\"Girvan-Newman modularity:\", gnMod)\n",
    "print(\"Infomap modularity:\", infomapMod)"
   ]
  },
  {
   "cell_type": "markdown",
   "metadata": {},
   "source": [
    "## External Evaluation"
   ]
  },
  {
   "cell_type": "code",
   "execution_count": 27,
   "metadata": {},
   "outputs": [
    {
     "ename": "NameError",
     "evalue": "name 'emaiLeiden' is not defined",
     "output_type": "error",
     "traceback": [
      "\u001b[0;31m---------------------------------------------------------------------------\u001b[0m",
      "\u001b[0;31mNameError\u001b[0m                                 Traceback (most recent call last)",
      "\u001b[0;32m/tmp/ipykernel_95928/2492894941.py\u001b[0m in \u001b[0;36m<module>\u001b[0;34m\u001b[0m\n\u001b[0;32m----> 1\u001b[0;31m \u001b[0mnmi\u001b[0m \u001b[0;34m=\u001b[0m \u001b[0mevaluation\u001b[0m\u001b[0;34m.\u001b[0m\u001b[0mnormalized_mutual_information\u001b[0m\u001b[0;34m(\u001b[0m\u001b[0memailLouvain\u001b[0m\u001b[0;34m,\u001b[0m \u001b[0memaiLeiden\u001b[0m\u001b[0;34m)\u001b[0m\u001b[0;34m\u001b[0m\u001b[0;34m\u001b[0m\u001b[0m\n\u001b[0m\u001b[1;32m      2\u001b[0m \u001b[0mnmi2\u001b[0m \u001b[0;34m=\u001b[0m \u001b[0mevaluation\u001b[0m\u001b[0;34m.\u001b[0m\u001b[0mnormalized_mutual_information\u001b[0m\u001b[0;34m(\u001b[0m\u001b[0memailLouvain\u001b[0m\u001b[0;34m,\u001b[0m \u001b[0memailGN\u001b[0m\u001b[0;34m)\u001b[0m\u001b[0;34m\u001b[0m\u001b[0;34m\u001b[0m\u001b[0m\n\u001b[1;32m      3\u001b[0m \u001b[0mnmi3\u001b[0m \u001b[0;34m=\u001b[0m \u001b[0mevaluation\u001b[0m\u001b[0;34m.\u001b[0m\u001b[0mnormalized_mutual_information\u001b[0m\u001b[0;34m(\u001b[0m\u001b[0memailLouvain\u001b[0m\u001b[0;34m,\u001b[0m \u001b[0memailInfomap\u001b[0m\u001b[0;34m)\u001b[0m\u001b[0;34m\u001b[0m\u001b[0;34m\u001b[0m\u001b[0m\n\u001b[1;32m      4\u001b[0m \u001b[0mnmi4\u001b[0m \u001b[0;34m=\u001b[0m \u001b[0mevaluation\u001b[0m\u001b[0;34m.\u001b[0m\u001b[0mnormalized_mutual_information\u001b[0m\u001b[0;34m(\u001b[0m\u001b[0memailLeiden\u001b[0m\u001b[0;34m,\u001b[0m \u001b[0memailInfomap\u001b[0m\u001b[0;34m)\u001b[0m\u001b[0;34m\u001b[0m\u001b[0;34m\u001b[0m\u001b[0m\n\u001b[1;32m      5\u001b[0m \u001b[0;34m\u001b[0m\u001b[0m\n",
      "\u001b[0;31mNameError\u001b[0m: name 'emaiLeiden' is not defined"
     ]
    }
   ],
   "source": [
    "nmi = evaluation.normalized_mutual_information(emailLouvain, emailLeiden)\n",
    "nmi2 = evaluation.normalized_mutual_information(emailLouvain, emailGN)\n",
    "nmi3 = evaluation.normalized_mutual_information(emailLouvain, emailInfomap)\n",
    "nmi4 = evaluation.normalized_mutual_information(emailLeiden, emailInfomap)\n",
    "\n",
    "print(\"Normalized Mutual Information between Louvain and Leiden:\", nmi)\n",
    "print(\"Normalized Mutual Information between Louvain and Girvan-Newman:\", nmi2)\n",
    "print(\"Normalized Mutual Information between Louvain and Infomap:\", nmi3)\n",
    "print(\"Normalized Mutual Information between Leiden and Infomap:\", nmi4)"
   ]
  },
  {
   "cell_type": "markdown",
   "metadata": {},
   "source": [
    "## Accuracy "
   ]
  },
  {
   "cell_type": "code",
   "execution_count": 40,
   "metadata": {},
   "outputs": [
    {
     "name": "stdout",
     "output_type": "stream",
     "text": [
      "NMI for Louvain and labels: MatchingResult(score=0.5882969131854163, std=None)\n",
      "NMI for Leiden and labels: MatchingResult(score=0.5776771281141226, std=None)\n",
      "NMI for Girvan-Newman and labels: MatchingResult(score=0.0449480988954229, std=None)\n",
      "\n",
      "AMI for Louvain and labels: MatchingResult(score=0.5527517337989198, std=None)\n",
      "AMI for Leiden and labels: MatchingResult(score=0.540992332601562, std=None)\n",
      "AMI for Girvan-Newman and labels: MatchingResult(score=-0.0005067215292382119, std=None)\n",
      "\n",
      "ARI for Louvain and labels: MatchingResult(score=0.3311391803457487, std=None)\n",
      "ARI for Leiden and labels: MatchingResult(score=0.2985758824644375, std=None)\n",
      "NMI for Girvan-Newman and labels: MatchingResult(score=-0.0012481583268392242, std=None)\n",
      "\n",
      "F1 for Louvain and labels: MatchingResult(score=0.21592592592592594, std=0.2803999690819878)\n",
      "F1 for Leiden and labels: MatchingResult(score=0.2082142857142857, std=0.27508509815053567)\n",
      "F1 for Girvan-Newman and labels: MatchingResult(score=0.05695652173913045, std=0.050599431394699676)\n",
      "\n",
      "VOI for Louvain and labels: MatchingResult(score=3.2163956901538038, std=None)\n",
      "VOI for Leiden and labels: MatchingResult(score=3.245985910498302, std=None)\n",
      "VOI for Girvan-Newman and labels: MatchingResult(score=4.848380933791979, std=None)\n"
     ]
    }
   ],
   "source": [
    "nmiLouvainLabels = emailLouvain.normalized_mutual_information(emailLabels)\n",
    "nmiLeidenLabels = emailLeiden.normalized_mutual_information(emailLabels)\n",
    "nmiGirvanNewmanLabels = emailGN.normalized_mutual_information(emailLabels)\n",
    "nmiInfomapLabels = emailInfomap.normalized_mutual_information(emailLabels)\n",
    "\n",
    "print(\"NMI for Louvain and labels:\", nmiLouvainLabels)\n",
    "print(\"NMI for Leiden and labels:\", nmiLeidenLabels)\n",
    "print(\"NMI for Girvan-Newman and labels:\", nmiGirvanNewmanLabels)\n",
    "print(\"NMI for Infomap and labels:\", nmiInfomapLabels)"
   ]
  },
  {
   "cell_type": "markdown",
   "metadata": {},
   "source": [
    "## DBLP network"
   ]
  },
  {
   "cell_type": "code",
   "execution_count": 19,
   "metadata": {},
   "outputs": [
    {
     "name": "stdout",
     "output_type": "stream",
     "text": [
      "Graph named 'dblpNet' with 317080 nodes and 1049866 edges\n"
     ]
    }
   ],
   "source": [
    "dblpNet = datafileToGraph('dblpNet.txt')\n",
    "print(dblpNet)\n",
    "dataToJSON(dblpNet, 'dblpNet.data')"
   ]
  },
  {
   "cell_type": "code",
   "execution_count": 20,
   "metadata": {},
   "outputs": [],
   "source": [
    "dblpNet = JSONtoData('dblpNet.data')"
   ]
  },
  {
   "cell_type": "code",
   "execution_count": 15,
   "metadata": {},
   "outputs": [
    {
     "name": "stdout",
     "output_type": "stream",
     "text": [
      "Average degree: 6.622089062697111\n",
      "Clustering coefficient: 0.6324308280637396\n"
     ]
    }
   ],
   "source": [
    "network_info(dblpNet)"
   ]
  },
  {
   "cell_type": "code",
   "execution_count": null,
   "metadata": {},
   "outputs": [],
   "source": [
    "apl = nx.average_shortest_path_length(dblpNet)\n",
    "print(apl)"
   ]
  },
  {
   "cell_type": "code",
   "execution_count": null,
   "metadata": {},
   "outputs": [],
   "source": []
  },
  {
   "cell_type": "code",
   "execution_count": null,
   "metadata": {},
   "outputs": [],
   "source": [
    "algs = [\"louvain\", \"leiden\", \"infomap\"]\n",
    "timeArray = []\n",
    "\n",
    "start_time = time.time()\n",
    "dblpLouvain = algorithms.louvain(dblpNet)\n",
    "dataToJSON(dblpLouvain, 'dblp_louvain.data')\n",
    "t = time.time() - start_time\n",
    "print(\"Execution time for Louvain in email net: %.6s seconds\" % (t))\n",
    "timeArray.append(round(t,6))\n",
    "\n",
    "start_time = time.time()\n",
    "dblpLeiden = algorithms.leiden(dblpNet)\n",
    "dataToJSON(dblpLeiden, 'dblp_leiden.data')\n",
    "t = time.time() - start_time\n",
    "print(\"Execution time for Leiden in email net: %.6s seconds\" % (t))\n",
    "timeArray.append(round(t,6))\n",
    "\n",
    "\"\"\"\n",
    "start_time = time.time()\n",
    "dblpGN = algorithms.girvan_newman(dblpNet, level=3)\n",
    "dataToJSON(dblpGN, 'dblp_gn.data')\n",
    "t = time.time() - start_time\n",
    "print(\"Execution time for Girvan-Newman in email net: %.6s seconds\" % (t))\n",
    "timeArray.append(round(t,6))\n",
    "\"\"\"\n",
    "\n",
    "start_time = time.time()\n",
    "dblpInfomap = algorithms.infomap(dblpNet, \"--silent -N 2\")\n",
    "dataToJSON(dblpInfomap, 'dblp_infomap.data')\n",
    "t = time.time() - start_time\n",
    "print(\"Execution time for Infomap in email net: %.6s seconds\" % (t))\n",
    "timeArray.append(round(t,6))"
   ]
  },
  {
   "cell_type": "code",
   "execution_count": null,
   "metadata": {},
   "outputs": [],
   "source": [
    "dblpLouvain = JSONtoData(\"dblp_louvain.data\")\n",
    "dblpLeiden = JSONtoData(\"dblp_leiden.data\")\n",
    "dblpInfomap = JSONtoData(\"dblp_infomap.data\")"
   ]
  },
  {
   "cell_type": "markdown",
   "metadata": {},
   "source": [
    "## Accuracy "
   ]
  },
  {
   "cell_type": "code",
   "execution_count": 40,
   "metadata": {
    "scrolled": true
   },
   "outputs": [
    {
     "name": "stdout",
     "output_type": "stream",
     "text": [
      "NMI for Louvain and labels: MatchingResult(score=0.5882969131854163, std=None)\n",
      "NMI for Leiden and labels: MatchingResult(score=0.5776771281141226, std=None)\n",
      "NMI for Girvan-Newman and labels: MatchingResult(score=0.0449480988954229, std=None)\n",
      "\n",
      "AMI for Louvain and labels: MatchingResult(score=0.5527517337989198, std=None)\n",
      "AMI for Leiden and labels: MatchingResult(score=0.540992332601562, std=None)\n",
      "AMI for Girvan-Newman and labels: MatchingResult(score=-0.0005067215292382119, std=None)\n",
      "\n",
      "ARI for Louvain and labels: MatchingResult(score=0.3311391803457487, std=None)\n",
      "ARI for Leiden and labels: MatchingResult(score=0.2985758824644375, std=None)\n",
      "NMI for Girvan-Newman and labels: MatchingResult(score=-0.0012481583268392242, std=None)\n",
      "\n",
      "F1 for Louvain and labels: MatchingResult(score=0.21592592592592594, std=0.2803999690819878)\n",
      "F1 for Leiden and labels: MatchingResult(score=0.2082142857142857, std=0.27508509815053567)\n",
      "F1 for Girvan-Newman and labels: MatchingResult(score=0.05695652173913045, std=0.050599431394699676)\n",
      "\n",
      "VOI for Louvain and labels: MatchingResult(score=3.2163956901538038, std=None)\n",
      "VOI for Leiden and labels: MatchingResult(score=3.245985910498302, std=None)\n",
      "VOI for Girvan-Newman and labels: MatchingResult(score=4.848380933791979, std=None)\n"
     ]
    }
   ],
   "source": [
    "nmiLouvainLabels = dblpLouvain.normalized_mutual_information(dblpLabels)\n",
    "nmiLeidenLabels = dblpLeiden.normalized_mutual_information(dblpLabels)\n",
    "#nmiGirvanNewmanLabels = emailGN.normalized_mutual_information(emailLabels)\n",
    "nmiInfomapLabels = dblpInfomap.normalized_mutual_information(dblpLabels)\n",
    "\n",
    "print(\"NMI for Louvain and labels:\", nmiLouvainLabels)\n",
    "print(\"NMI for Leiden and labels:\", nmiLeidenLabels)\n",
    "#print(\"NMI for Girvan-Newman and labels:\", nmiGirvanNewmanLabels)\n",
    "print(\"NMI for Infomap and labels:\", nmiInfomapLabels)"
   ]
  },
  {
   "cell_type": "markdown",
   "metadata": {},
   "source": [
    "## Modularity"
   ]
  },
  {
   "cell_type": "code",
   "execution_count": 53,
   "metadata": {},
   "outputs": [
    {
     "name": "stdout",
     "output_type": "stream",
     "text": [
      "Louvain Girvan-Newman mod: FitnessResult(min=None, max=None, score=0.4318206751448841, std=None)\n",
      "Louvain Erdos-Renyi mod: FitnessResult(min=None, max=None, score=0.4549865127361685, std=None)\n",
      "Louvain Z-mod: FitnessResult(min=None, max=None, score=1.1462260420651909, std=None)\n",
      "gn Girvan-Newman mod: FitnessResult(min=None, max=None, score=0.0031087073868774446, std=None)\n"
     ]
    }
   ],
   "source": [
    "louvainModD = evaluation.newman_girvan_modularity(dblpNet, dblpLouvain)\n",
    "leidenModD = evaluation.newman_girvan_modularity(dblpNet, dblpLeiden)\n",
    "#gnMod = evaluation.newman_girvan_modularity(emailNet, emailGN)\n",
    "infomapModD = evaluation.newman_girvan_modularity(dblpNet, dblpInfomap)\n",
    "\n",
    "print(\"Louvain modularity:\", louvainModD)\n",
    "print(\"Leiden modularity:\", leidenModD)\n",
    "#print(\"Girvan-Newman modularity:\", gnMod)\n",
    "print(\"Infomap modularity:\", infomapModD)"
   ]
  },
  {
   "cell_type": "markdown",
   "metadata": {},
   "source": [
    "## LFR "
   ]
  },
  {
   "cell_type": "code",
   "execution_count": 23,
   "metadata": {},
   "outputs": [
    {
     "name": "stderr",
     "output_type": "stream",
     "text": [
      "100%|██████████| 10/10 [04:43<00:00, 28.35s/it]\n",
      "No handles with labels found to put in legend.\n"
     ]
    }
   ],
   "source": [
    "lfr, _ = LFR(500, 3, 1.5, 0.1, average_degree=5, min_community=20)\n",
    "levels = [7, 9, 11, 13, 15, 17, 19, 21, 23, 25]\n",
    "modularity_vals = []\n",
    "bestGNscore = 0\n",
    "bestGNcut = 0\n",
    "\n",
    "for l in tqdm(levels):\n",
    "    lfrGN = algorithms.girvan_newman(lfr, l)\n",
    "    #print(\"GN mod for level %d:\" % (l), evaluation.newman_girvan_modularity(lfr,lfrGN))\n",
    "    a = evaluation.newman_girvan_modularity(lfr,lfrGN)\n",
    "    if a.score > bestGNscore:\n",
    "        bestGNscore = a.score\n",
    "        bestGNcut = l\n",
    "    modularity_vals.append(a.score)\n",
    "\n",
    "print(\"best modularity with %d is: %f\" % (bestGNcut, bestGNscore))\n",
    "    \n",
    "fig = plt.figure(figsize=(3*1.61803398875, 3))\n",
    "ax = plt.axes((0.2, 0.2, 0.70, 0.70), facecolor='w')\n",
    "\n",
    "ax.plot(levels, modularity_vals, \"-ro\")\n",
    "\n",
    "ax.set_xlabel(\"levels\")\n",
    "ax.set_ylabel(\"Modularity\")\n",
    "plt.xticks(levels)\n",
    "ax.set_title(\"Girvan-Newman Modularity LFR\")\n",
    "ax.legend()\n",
    "fig.savefig(figurePath/(\"Girvan-Newman_mod_lfr.png\"))\n",
    "plt.close(fig)\n"
   ]
  },
  {
   "cell_type": "markdown",
   "metadata": {},
   "source": [
    "## LFR results"
   ]
  },
  {
   "cell_type": "code",
   "execution_count": 29,
   "metadata": {},
   "outputs": [
    {
     "name": "stderr",
     "output_type": "stream",
     "text": [
      "100%|██████████| 7/7 [09:30<00:00, 81.54s/it]\n"
     ]
    }
   ],
   "source": [
    "n = 500\n",
    "tau1 = 3\n",
    "tau2 = 1.5\n",
    "#mu = 0.1\n",
    "mus = [0.1, 0.2, 0.3, 0.4, 0.5, 0.6, 0.7]\n",
    "b = \"LFR\"\n",
    "\n",
    "resultsLouvain = []\n",
    "resultsLeiden = []\n",
    "resultsInfomap = []\n",
    "resultsGN = []\n",
    "\n",
    "for mu in tqdm(mus):\n",
    "    lfrGraph, comsLFR = LFR(n, tau1, tau2, mu, average_degree=5, min_community=20)\n",
    "    \n",
    "    lfrLouvain = algorithms.louvain(lfrGraph)\n",
    "    lfrLeiden = algorithms.leiden(lfrGraph)\n",
    "    lfrInfomap = new_infomap(lfrGraph, \"-N 2\")\n",
    "    lfrGN = algorithms.girvan_newman(lfrGraph, level=15)\n",
    "    \n",
    "    nmi1 = evaluation.normalized_mutual_information(lfrLouvain, comsLFR)\n",
    "    resultsLouvain.append(nmi1[0])\n",
    "    nmi2 = evaluation.normalized_mutual_information(lfrLeiden, comsLFR)\n",
    "    resultsLeiden.append(nmi2[0])\n",
    "    nmi3 =  evaluation.normalized_mutual_information(lfrInfomap, comsLFR)\n",
    "    resultsInfomap.append(nmi3[0])\n",
    "    nmi4 =  evaluation.normalized_mutual_information(lfrGN, comsLFR)\n",
    "    resultsGN.append(nmi4[0])\n",
    "    \n",
    "\n",
    "fig = plt.figure(figsize=(3*1.61803398875, 3))\n",
    "ax = plt.axes((0.2, 0.2, 0.70, 0.70), facecolor='w')\n",
    "\n",
    "ax.plot(mus,resultsLouvain, \"-ro\", label = \"Louvain\")\n",
    "ax.plot(mus,resultsLeiden, \"-go\", label = \"Leiden\")\n",
    "ax.plot(mus,resultsInfomap, \"-bo\", label = \"Infomap\")\n",
    "ax.plot(mus,resultsGN, \"-yo\", label = \"Girvan-Newman\")\n",
    "\n",
    "ax.set_xlabel(chr(945+11))\n",
    "ax.set_ylabel(\"Performance\")\n",
    "ax.set_title(\"nmi Accuracy\")\n",
    "ax.legend()\n",
    "fig.savefig(figurePath/(\"Benchmark_Results_%s.png\" % (b)))\n",
    "plt.close(fig)"
   ]
  },
  {
   "cell_type": "code",
   "execution_count": 26,
   "metadata": {},
   "outputs": [
    {
     "name": "stdout",
     "output_type": "stream",
     "text": [
      "Average degree: 4.304\n",
      "Clustering coefficient: 0.18908052240157525\n",
      "Average Path Length: 5.686468937875752\n"
     ]
    }
   ],
   "source": [
    "lfrGraph, comsLFR = LFR(500, 3, 1.5, 0.1, average_degree=5, min_community=20)\n",
    "network_info(lfrGraph)"
   ]
  },
  {
   "cell_type": "code",
   "execution_count": 37,
   "metadata": {},
   "outputs": [
    {
     "name": "stdout",
     "output_type": "stream",
     "text": [
      "16\n",
      "1076\n"
     ]
    }
   ],
   "source": [
    "print(list(comsLFR.to_node_community_map().values())[-1][0]+1)\n",
    "print(len(lfrGraph.edges))"
   ]
  },
  {
   "cell_type": "code",
   "execution_count": 29,
   "metadata": {},
   "outputs": [
    {
     "name": "stdout",
     "output_type": "stream",
     "text": [
      "Louvain modularity: FitnessResult(min=None, max=None, score=0.8643990720139303, std=None)\n",
      "Leiden modularity: FitnessResult(min=None, max=None, score=0.8682016210389576, std=None)\n",
      "Girvan-Newman modularity: FitnessResult(min=None, max=None, score=0.8659123180995288, std=None)\n",
      "Infomap modularity: FitnessResult(min=None, max=None, score=0.8620657191028316, std=None)\n"
     ]
    }
   ],
   "source": [
    "lfrLouvain = algorithms.louvain(lfrGraph)\n",
    "lfrLeiden = algorithms.leiden(lfrGraph)\n",
    "lfrGN = algorithms.girvan_newman(lfrGraph, level=15)\n",
    "lfrInfomap = new_infomap(lfrGraph, \"-N 2\")\n",
    "\n",
    "louvainMod = evaluation.newman_girvan_modularity(lfrGraph, lfrLouvain)\n",
    "leidenMod = evaluation.newman_girvan_modularity(lfrGraph, lfrLeiden)\n",
    "gnMod = evaluation.newman_girvan_modularity(lfrGraph, lfrGN)\n",
    "infomapMod = evaluation.newman_girvan_modularity(lfrGraph, lfrInfomap)\n",
    "\n",
    "print(\"Louvain modularity:\", louvainMod)\n",
    "print(\"Leiden modularity:\", leidenMod)\n",
    "print(\"Girvan-Newman modularity:\", gnMod)\n",
    "print(\"Infomap modularity:\", infomapMod)"
   ]
  },
  {
   "cell_type": "markdown",
   "metadata": {},
   "source": [
    "## SBM "
   ]
  },
  {
   "cell_type": "code",
   "execution_count": 42,
   "metadata": {},
   "outputs": [
    {
     "name": "stderr",
     "output_type": "stream",
     "text": [
      "100%|██████████| 1/1 [00:52<00:00, 52.41s/it]"
     ]
    },
    {
     "name": "stdout",
     "output_type": "stream",
     "text": [
      "0.3948255783688625\n",
      "best modularity with 2 is: 0.394826\n"
     ]
    },
    {
     "name": "stderr",
     "output_type": "stream",
     "text": [
      "\n"
     ]
    },
    {
     "data": {
      "text/plain": [
       "'\\nfig = plt.figure(figsize=(3*1.61803398875, 3))\\nax = plt.axes((0.2, 0.2, 0.70, 0.70), facecolor=\\'w\\')\\n\\nax.plot(levels, modularity_vals, \"-ro\")\\n\\nax.set_xlabel(\"levels\")\\nax.set_ylabel(\"Modularity\")\\nplt.xticks(levels)\\nax.set_title(\"Girvan-Newman Modularity SBM\")\\nfig.savefig(figurePath/(\"Girvan-Newman_mod_sbm.png\"))\\nplt.close(fig)\\n'"
      ]
     },
     "execution_count": 42,
     "metadata": {},
     "output_type": "execute_result"
    }
   ],
   "source": [
    "sizes = [32, 32, 32, 32]\n",
    "c = 0.1\n",
    "probs = [[0.8, c, c, c], [c, 0.8, c, c], [c, c, 0.8, c],[c, c, c, 0.8]]\n",
    "sbm, _ = SBM(sizes, probs, seed=10)\n",
    "\n",
    "levels = [2, 3, 4, 5, 6, 7, 8, 9]\n",
    "modularity_vals = []\n",
    "bestGNscore = 0\n",
    "bestGNcut = 0\n",
    "\n",
    "for l in tqdm(levels):\n",
    "    sbmGN = algorithms.girvan_newman(sbm, l)\n",
    "    a = evaluation.newman_girvan_modularity(sbm,sbmGN)\n",
    "    if a.score > bestGNscore:\n",
    "        bestGNscore = a.score\n",
    "        bestGNcut = l\n",
    "        print(bestGNscore)\n",
    "    modularity_vals.append(a.score)\n",
    "\n",
    "print(\"best modularity with %d is: %f\" % (bestGNcut, bestGNscore))\n",
    "\n",
    "\n",
    "fig = plt.figure(figsize=(3*1.61803398875, 3))\n",
    "ax = plt.axes((0.2, 0.2, 0.70, 0.70), facecolor='w')\n",
    "\n",
    "ax.plot(levels, modularity_vals, \"-ro\")\n",
    "\n",
    "ax.set_xlabel(\"levels\")\n",
    "ax.set_ylabel(\"Modularity\")\n",
    "plt.xticks(levels)\n",
    "ax.set_title(\"Girvan-Newman Modularity SBM\")\n",
    "fig.savefig(figurePath/(\"Girvan-Newman_mod_sbm.png\"))\n",
    "plt.close(fig)"
   ]
  },
  {
   "cell_type": "markdown",
   "metadata": {},
   "source": [
    "## SBM results"
   ]
  },
  {
   "cell_type": "code",
   "execution_count": 30,
   "metadata": {},
   "outputs": [
    {
     "name": "stderr",
     "output_type": "stream",
     "text": [
      "100%|██████████| 11/11 [09:50<00:00, 53.71s/it]\n"
     ]
    }
   ],
   "source": [
    "resultsLouvain = []\n",
    "resultsLeiden = []\n",
    "resultsInfomap = []\n",
    "resultsGN = []\n",
    "b = \"SBM\"\n",
    "\n",
    "mus = [0, 0.1, 0.2, 0.3, 0.4, 0.5, 0.6, 0.7, 0.8, 0.9, 1]\n",
    "\n",
    "sizes = [32, 32, 32, 32]\n",
    "for c in tqdm(mus):\n",
    "    probs = [[0.8, c, c, c], [c, 0.8, c, c], [c, c, 0.8, c],[c, c, c, 0.8]]\n",
    "    sbmGraph, comsSBM = SBM(sizes, probs, seed=10)\n",
    "\n",
    "    sbmLouvain = algorithms.louvain(sbmGraph)\n",
    "    sbmLeiden = algorithms.leiden(sbmGraph)\n",
    "    sbmInfomap = new_infomap(sbmGraph, \"-N 2\")\n",
    "    sbmGN = algorithms.girvan_newman(sbmGraph, level=3)\n",
    "\n",
    "    nmi1 = evaluation.normalized_mutual_information(sbmLouvain, comsSBM)\n",
    "    resultsLouvain.append(nmi1[0])\n",
    "    nmi2 = evaluation.normalized_mutual_information(sbmLeiden, comsSBM)\n",
    "    resultsLeiden.append(nmi2[0])\n",
    "    nmi3 =  evaluation.normalized_mutual_information(sbmInfomap, comsSBM)\n",
    "    resultsInfomap.append(nmi3[0])\n",
    "    nmi4 =  evaluation.normalized_mutual_information(sbmGN, comsSBM)\n",
    "    resultsGN.append(nmi4[0])\n",
    "\n",
    "fig = plt.figure(figsize=(3*1.61803398875, 3))\n",
    "ax = plt.axes((0.2, 0.2, 0.70, 0.70), facecolor='w')\n",
    "\n",
    "ax.plot(mus,resultsLouvain, \"-ro\", label = \"Louvain\")\n",
    "ax.plot(mus,resultsLeiden, \"-go\", label = \"Leiden\")\n",
    "ax.plot(mus,resultsInfomap, \"-bo\", label = \"Infomap\")\n",
    "ax.plot(mus,resultsGN, \"-yo\", label = \"GN\")\n",
    "\n",
    "ax.set_xlabel(chr(945+11))\n",
    "ax.set_ylabel(\"Performance\")\n",
    "ax.set_title(\"nmi Accuracy\")\n",
    "ax.legend()\n",
    "fig.savefig(figurePath/(\"Benchmark_Results_%s.png\" % (b)))\n",
    "plt.close(fig)\n"
   ]
  },
  {
   "cell_type": "code",
   "execution_count": 38,
   "metadata": {},
   "outputs": [
    {
     "name": "stdout",
     "output_type": "stream",
     "text": [
      "Average degree: 98.01777777777778\n",
      "Clustering coefficient: 0.30217549105121533\n",
      "Average Path Length: 1.79484286067805\n"
     ]
    }
   ],
   "source": [
    "sizes = [75, 75, 300]\n",
    "probs = [[0.25, 0.05, 0.02], [0.05, 0.35, 0.07], [0.02, 0.07, 0.40]]\n",
    "sbmGraph, comsSBM = SBM(sizes, probs, seed=10)\n",
    "network_info(sbmGraph)"
   ]
  },
  {
   "cell_type": "code",
   "execution_count": 40,
   "metadata": {},
   "outputs": [
    {
     "name": "stdout",
     "output_type": "stream",
     "text": [
      "3\n",
      "450\n",
      "22054\n"
     ]
    }
   ],
   "source": [
    "print(list(comsSBM.to_node_community_map().values())[-1][0]+1)\n",
    "print(len(sbmGraph.nodes))\n",
    "print(len(sbmGraph.edges))"
   ]
  },
  {
   "cell_type": "code",
   "execution_count": 32,
   "metadata": {},
   "outputs": [],
   "source": [
    "sbmLouvain = algorithms.louvain(sbmGraph)\n",
    "sbmLeiden = algorithms.leiden(sbmGraph)\n",
    "sbmGN = algorithms.girvan_newman(sbmGraph, level=3)\n",
    "sbmInfomap = new_infomap(sbmGraph, \"-N 2\")\n",
    "\n",
    "louvainMod = evaluation.newman_girvan_modularity(sbmGraph, sbmLouvain)\n",
    "leidenMod = evaluation.newman_girvan_modularity(sbmGraph, sbmLeiden)\n",
    "gnMod = evaluation.newman_girvan_modularity(sbmGraph, sbmGN)\n",
    "infomapMod = evaluation.newman_girvan_modularity(sbmGraph, sbmInfomap)\n",
    "\n",
    "print(\"Louvain modularity:\", louvainMod)\n",
    "print(\"Leiden modularity:\", leidenMod)\n",
    "print(\"Girvan-Newman modularity:\", gnMod)\n",
    "print(\"Infomap modularity:\", infomapMod)"
   ]
  },
  {
   "cell_type": "code",
   "execution_count": null,
   "metadata": {},
   "outputs": [],
   "source": []
  }
 ],
 "metadata": {
  "kernelspec": {
   "display_name": "Python 3 (ipykernel)",
   "language": "python",
   "name": "python3"
  },
  "language_info": {
   "codemirror_mode": {
    "name": "ipython",
    "version": 3
   },
   "file_extension": ".py",
   "mimetype": "text/x-python",
   "name": "python",
   "nbconvert_exporter": "python",
   "pygments_lexer": "ipython3",
   "version": "3.8.12"
  }
 },
 "nbformat": 4,
 "nbformat_minor": 2
}
